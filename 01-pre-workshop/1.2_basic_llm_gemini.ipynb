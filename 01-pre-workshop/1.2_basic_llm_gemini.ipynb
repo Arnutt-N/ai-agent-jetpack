{
 "cells": [
  {
   "cell_type": "markdown",
   "id": "8ce7737f",
   "metadata": {},
   "source": [
    "# ตัวอย่างการใช้งาน Gemini in Python อย่างง่าย\n",
    "\n",
    "Notebook นี้สาธิตวิธีการใช้งาน Gemini API เพื่อสร้างข้อความจาก prompt ที่กำหนด\n",
    "\n",
    "---\n",
    "ขั้นตอนการใช้งาน Gemini in Python\n",
    "\n",
    "1. ติดตั้งไลบรารี `google-genai` ด้วยคำสั่ง pip\n",
    "2. API Key สำหรับการใช้งาน Gemini API\n",
    "3. ส่ง prompt เพื่อให้โมเดลสร้างข้อความ\n"
   ]
  },
  {
   "cell_type": "markdown",
   "id": "c61c432c",
   "metadata": {},
   "source": [
    "## 1. ติดตั้งไลบรารี `google-genai` ด้วยคำสั่ง pip"
   ]
  },
  {
   "cell_type": "code",
   "execution_count": null,
   "id": "c7e003fd",
   "metadata": {},
   "outputs": [],
   "source": [
    "# Installation\n",
    "!pip install google-genai"
   ]
  },
  {
   "cell_type": "markdown",
   "id": "43407f0c",
   "metadata": {},
   "source": [
    "## 2. API Key สำหรับการใช้งาน Gemini API"
   ]
  },
  {
   "cell_type": "code",
   "execution_count": null,
   "id": "367fe463",
   "metadata": {},
   "outputs": [],
   "source": [
    "import os\n",
    "from google import genai\n",
    "from google.genai import types\n",
    "\n",
    "\n",
    "client = genai.Client(api_key=\"\")\n",
    "\n",
    "response = client.models.generate_content(\n",
    "    model='gemini-2.0-flash-001', contents='Why is the sky blue?'\n",
    ")\n",
    "print(response.text)"
   ]
  },
  {
   "cell_type": "markdown",
   "id": "b82b1dcb",
   "metadata": {},
   "source": [
    "## 3.ส่ง prompt เพื่อให้โมเดลสร้างข้อความ"
   ]
  },
  {
   "cell_type": "code",
   "execution_count": null,
   "id": "cf07e0c9",
   "metadata": {},
   "outputs": [],
   "source": [
    "!wget -q https://storage.googleapis.com/generativeai-downloads/data/a11.txt"
   ]
  },
  {
   "cell_type": "code",
   "execution_count": null,
   "id": "9ab87182",
   "metadata": {},
   "outputs": [],
   "source": [
    "file = client.files.upload(file='a11.txt')\n",
    "response = client.models.generate_content(\n",
    "    model='gemini-2.0-flash-001',\n",
    "    contents=['Could you summarize this file? in Thai', file]\n",
    ")\n",
    "print(response.text)"
   ]
  }
 ],
 "metadata": {
  "kernelspec": {
   "display_name": "Python 3",
   "language": "python",
   "name": "python3"
  },
  "language_info": {
   "codemirror_mode": {
    "name": "ipython",
    "version": 3
   },
   "file_extension": ".py",
   "mimetype": "text/x-python",
   "name": "python",
   "nbconvert_exporter": "python",
   "pygments_lexer": "ipython3",
   "version": "3.12.1"
  }
 },
 "nbformat": 4,
 "nbformat_minor": 5
}
