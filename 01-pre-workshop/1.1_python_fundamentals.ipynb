{
 "cells": [
  {
   "cell_type": "markdown",
   "id": "09b3a31e",
   "metadata": {},
   "source": [
    "# 🐍 Basic Python for AI Agent Development\n",
    "Notebook นี้จะแนะนำแนวคิดพื้นฐานของภาษา Python ที่จำเป็นสำหรับการสร้าง AI Agent\n",
    "\n",
    "**ภาพรวมเนื้อหาแต่ละเซลล์:**\n",
    "1. Variables and Data Types - ตัวแปรและชนิดข้อมูลพื้นฐาน\n",
    "2. Control Flow: if, elif, else if - การควบคุมการไหลของโปรแกรม\n",
    "3. Function - ฟังก์ชันใน Python และการใช้งานกับ AI Agent\n",
    "4. Class - อธิบายคลาสและการใช้งานใน AI\n",
    "5. Installing Libraries - การติดตั้งไลบรารี\n",
    "6. Environment Variables - ตัวแปรสภาพแวดล้อม"
   ]
  },
  {
   "cell_type": "markdown",
   "id": "ca0322cd",
   "metadata": {},
   "source": [
    "## Variables and Data Types\n",
    "เรียนรู้วิธีการกำหนดตัวแปรและใช้งานชนิดข้อมูลพื้นฐานในภาษา Python เช่น จำนวนเต็ม (integer), ทศนิยม (float), สตริง (string) และบูลีน (boolean)"
   ]
  },
  {
   "cell_type": "markdown",
   "id": "9fb575ef",
   "metadata": {},
   "source": [
    "## ตัวอย่างชนิดข้อมูลพื้นฐาน (Data Types)\n",
    "- จำนวนเต็ม (Integer)\n",
    "- ทศนิยม (Float)\n",
    "- จำนวนเชิงซ้อน (Complex)\n",
    "- สตริง (String)\n",
    "- บูลีน (Boolean)\n",
    "- ลิสต์ (List)\n",
    "- ดิกชันนารี (Dictionary)"
   ]
  },
  {
   "cell_type": "code",
   "execution_count": null,
   "id": "a0f25fed",
   "metadata": {},
   "outputs": [],
   "source": [
    "# Variable assignment and data types\n",
    "x = 10           # integer\n",
    "y = 3.14         # float\n",
    "name = \"Agent\"   # string\n",
    "is_ai = True     # boolean\n",
    "\n",
    "print(type(x), x)\n",
    "print(type(y), y)\n",
    "print(type(name), name)\n",
    "print(type(is_ai), is_ai)"
   ]
  },
  {
   "cell_type": "code",
   "execution_count": null,
   "id": "3a3f144b",
   "metadata": {},
   "outputs": [],
   "source": [
    "# Numbers\n",
    "integer_num = 42\n",
    "float_num = 3.14\n",
    "complex_num = 1 + 2j\n",
    "\n",
    "print(f\"Integer: {integer_num}, Type: {type(integer_num)}\")\n",
    "print(f\"Float: {float_num}, Type: {type(float_num)}\")\n",
    "print(f\"Complex: {complex_num}, Type: {type(complex_num)}\")"
   ]
  },
  {
   "cell_type": "code",
   "execution_count": null,
   "id": "1d6e57eb",
   "metadata": {},
   "outputs": [],
   "source": [
    "# String\n",
    "text = \"Hello, Python!\"\n",
    "print(f\"String: {text}, Type: {type(text)}\")\n",
    "print(f\"String length: {len(text)}\")\n",
    "print(f\"Uppercase: {text.upper()}\")\n",
    "print(f\"Lowercase: {text.lower()}\")"
   ]
  },
  {
   "cell_type": "code",
   "execution_count": null,
   "id": "bec11462",
   "metadata": {},
   "outputs": [],
   "source": [
    "# Boolean\n",
    "is_true = True\n",
    "is_false = False\n",
    "print(f\"True value: {is_true}, Type: {type(is_true)}\")\n",
    "print(f\"False value: {is_false}, Type: {type(is_false)}\")"
   ]
  },
  {
   "cell_type": "code",
   "execution_count": null,
   "id": "d2fc6e3d",
   "metadata": {},
   "outputs": [],
   "source": [
    "# List (Mutable sequence)\n",
    "my_list = [1, 2, \"three\", 4.0, True]\n",
    "print(f\"List: {my_list}, Type: {type(my_list)}\")\n",
    "print(f\"List length: {len(my_list)}\")\n",
    "print(f\"First item: {my_list[0]}\")\n",
    "my_list.append(\"new item\")\n",
    "print(f\"After append: {my_list}\")"
   ]
  },
  {
   "cell_type": "code",
   "execution_count": null,
   "id": "d5664009",
   "metadata": {},
   "outputs": [],
   "source": [
    "\n",
    "# Dictionary (Key-value pairs)\n",
    "my_dict = {\n",
    "    \"name\": \"Python\",\n",
    "    \"version\": 3.9,\n",
    "    \"is_fun\": True\n",
    "}\n",
    "print(f\"Dictionary: {my_dict}, Type: {type(my_dict)}\")\n",
    "print(f\"Keys: {my_dict.keys()}\")\n",
    "print(f\"Values: {my_dict.values()}\")\n",
    "print(f\"Access by key 'name': {my_dict['name']}\")"
   ]
  },
  {
   "cell_type": "markdown",
   "id": "28425c07",
   "metadata": {},
   "source": [
    "## Control Flow: if, elif, else\n",
    "ตัวอย่างการใช้โครงสร้างควบคุมเงื่อนไขในภาษา Python เพื่อให้โปรแกรมตัดสินใจได้\n",
    "\n",
    "<img width=\"500px\" src=\"https://static.takeuforward.org/wp/uploads/2023/09/if-else.png\"></img>"
   ]
  },
  {
   "cell_type": "code",
   "execution_count": null,
   "id": "de2eb0ab",
   "metadata": {},
   "outputs": [],
   "source": [
    "# ตัวอย่างที่ 1: if อย่างเดียว\n",
    "age = 20\n",
    "print(f\"อายุ = {age}\")\n",
    "if age >= 20:\n",
    "    print(\"คุณบรรลุนิติภาวะแล้ว\")"
   ]
  },
  {
   "cell_type": "code",
   "execution_count": null,
   "id": "9ab770e1",
   "metadata": {},
   "outputs": [],
   "source": [
    "# ตัวอย่างที่ 2: if-else\n",
    "score = 75\n",
    "print(f\"\\nคะแนน = {score}\")\n",
    "if score >= 50:\n",
    "    print(\"สอบผ่าน\")\n",
    "else:\n",
    "    print(\"สอบไม่ผ่าน\")\n"
   ]
  },
  {
   "cell_type": "code",
   "execution_count": null,
   "id": "f794e4e2",
   "metadata": {},
   "outputs": [],
   "source": [
    "\n",
    "# ตัวอย่างที่ 3: if-elif-else\n",
    "grade = 85\n",
    "print(f\"\\nคะแนน = {grade}\")\n",
    "if grade >= 80:\n",
    "    print(\"เกรด A\")\n",
    "elif grade >= 70:\n",
    "    print(\"เกรด B\")\n",
    "elif grade >= 60:\n",
    "    print(\"เกรด C\")\n",
    "elif grade >= 50:\n",
    "    print(\"เกรด D\")\n",
    "else:\n",
    "    print(\"เกรด F\")"
   ]
  },
  {
   "cell_type": "markdown",
   "id": "fa885fff",
   "metadata": {},
   "source": [
    "## Functions\n",
    "ฟังก์ชันช่วยจัดระเบียบโค้ดและทำให้สามารถนำกลับมาใช้ซ้ำได้\n",
    "ซึ่ง AI Agent มักใช้ฟังก์ชันเพื่อประมวลผลข้อมูลหรือช่วยในการตัดสินใจ\n",
    "\n",
    "<img src=\"https://s3-us-west-2.amazonaws.com/courses-images/wp-content/uploads/sites/1861/2017/06/23161835/apple-slicing-function.png\" alt=\"Function Domain and Range\" width=\"500\"/>"
   ]
  },
  {
   "cell_type": "code",
   "execution_count": null,
   "id": "913be5e2",
   "metadata": {},
   "outputs": [],
   "source": [
    "# Define a simple function\n",
    "def greet_agent(name):\n",
    "    return f\"Hello, {name}! Ready to build an AI agent?\"\n",
    "\n",
    "print(greet_agent(\"Agent\"))"
   ]
  },
  {
   "cell_type": "markdown",
   "id": "a9824865",
   "metadata": {},
   "source": [
    "## Classes\n",
    "คลาส (Classes) คือแบบแปลนสำหรับสร้าง วัตถุ (Objects) ในภาษา Python\n",
    "ในงานด้าน AI คลาสสามารถใช้แทนตัวแทน (Agent), สภาพแวดล้อม (Environment) หรือโครงสร้างข้อมูลต่าง ๆ ได้"
   ]
  },
  {
   "cell_type": "code",
   "execution_count": null,
   "id": "2d336050",
   "metadata": {},
   "outputs": [],
   "source": [
    "# Define a simple Agent class\n",
    "class Agent:\n",
    "    def __init__(self, name):\n",
    "        self.name = name\n",
    "    def act(self):\n",
    "        return f\"{self.name} is taking action!\"\n",
    "\n",
    "agent = Agent(\"AI-Agent\")\n",
    "print(agent.act())"
   ]
  },
  {
   "cell_type": "markdown",
   "id": "dd0ff22b",
   "metadata": {},
   "source": [
    "##  Installing Libraries - การติดตั้งไลบรารี\n",
    "\n",
    "Python มีไลบรารีมากมายที่ช่วยให้การพัฒนา AI Agent ง่ายขึ้น เช่น numpy, pandas, requests ฯลฯ\n",
    "\n",
    "การติดตั้งไลบรารีนิยมใช้คำสั่ง `pip` ใน Jupyter Notebook สามารถใช้ `!` นำหน้าคำสั่ง shell ได้ เช่น"
   ]
  },
  {
   "cell_type": "code",
   "execution_count": null,
   "id": "f2771690",
   "metadata": {},
   "outputs": [],
   "source": [
    "# ตัวอย่างการติดตั้งไลบรารี numpy\n",
    "!pip install numpy"
   ]
  },
  {
   "cell_type": "markdown",
   "id": "8b98d32f",
   "metadata": {},
   "source": [
    "## Environment Variables - ตัวแปรสภาพแวดล้อม\n",
    "ตัวแปรสภาพแวดล้อม (Environment Variables) สำหรับจัดการ API Key, Token หรือค่าคอนฟิกต่าง ๆ ที่ไม่ควรเขียนไว้ตรง ๆ ในโค้ด\n",
    "- อ่านค่า: os.environ.get('KEY')\n",
    "- กำหนดค่า: os.environ['KEY'] = 'value'\n",
    "- เหมาะสำหรับเก็บข้อมูลสำคัญอย่างปลอดภัย"
   ]
  }
 ],
 "metadata": {
  "kernelspec": {
   "display_name": "Python 3",
   "language": "python",
   "name": "python3"
  },
  "language_info": {
   "codemirror_mode": {
    "name": "ipython",
    "version": 3
   },
   "file_extension": ".py",
   "mimetype": "text/x-python",
   "name": "python",
   "nbconvert_exporter": "python",
   "pygments_lexer": "ipython3",
   "version": "3.12.1"
  }
 },
 "nbformat": 4,
 "nbformat_minor": 5
}
