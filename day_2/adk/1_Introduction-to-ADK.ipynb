{
 "cells": [
  {
   "cell_type": "markdown",
   "id": "0009a562",
   "metadata": {},
   "source": [
    "## สร้าง AI Agent ด้วย Google ADK\n",
    "\n",
    "### สิ่งที่คุณจะได้เรียนรู้จาก Tutorial นี้\n",
    "\n",
    "1. **ADK ของ Google คืออะไร** – ทำความเข้าใจแนวคิดพื้นฐาน\n",
    "2. **จุดเด่นของ ADK** – ทำไมถึงควรใช้\n",
    "3. **การติดตั้งและตั้งค่า** – เตรียมสภาพแวดล้อมของคุณ\n",
    "4. **องค์ประกอบหลัก** – สถาปัตยกรรมของ ADK\n",
    "5. **Agent แรกของคุณ** – สร้าง Agent ที่สามารถทำงานได้จริง\n",
    "6. **สร้าง Agent ที่สามารถนำไปใช้งานได้** – สร้าง Weather Agent แบบ deploy ได้\n",
    "\n",
    "---\n",
    "\n",
    "**ความรู้พื้นฐานที่ควรมีมาก่อน:**\n",
    "- พื้นฐานการเขียนโปรแกรมด้วย Python\n",
    "- API Key จาก Google AI Studio"
   ]
  },
  {
   "cell_type": "markdown",
   "id": "fb5b89af",
   "metadata": {},
   "source": [
    "## ส่วนที่ 1: Agent Development Kit (ADK) คืออะไร\n",
    "\n",
    "### คำจำกัดความ\n",
    "\n",
    "**Agent Development Kit (ADK)** คือ framework แบบ open-source จาก Google ที่ถูกออกแบบมาเพื่อช่วยให้นักพัฒนาสามารถสร้าง AI Agent และระบบ Multi-agent ที่มีความชาญฉลาดได้ง่ายขึ้น\n",
    "\n",
    "### คุณลักษณะเด่น:\n",
    "- **Multi-agent โดยการออกแบบ**: สร้างระบบที่ Agent หลายตัวสามารถทำงานร่วมกัน\n",
    "- **ยืดหยุ่นและมีความเป็นโมดูล**: รองรับการใช้โมเดล AI ได้หลากหลาย (เช่น Gemini, Claude, GPT เป็นต้น)\n",
    "- **เครื่องมือในตัว (Tools)**: เช่น ระบบค้นหา การรันโค้ด และอื่น ๆ\n",
    "- **พร้อมใช้งานใน production**: Google ใช้ ADK ภายในองค์กรจริง\n",
    "- **ระบบ orchestrate ขั้นสูง**: ควบคุม flow การทำงานได้อย่างแม่นยำ\n",
    "\n",
    "### ทำไม ADK ถึงสำคัญ?\n",
    "\n",
    "ADK สะท้อนการเปลี่ยนแปลงของแนวทางการพัฒนา AI — จากการใช้โมเดลเดียวแก้ปัญหาทุกอย่าง ไปสู่การสร้าง **ระบบที่ประกอบด้วย Agent เฉพาะทาง** ที่ทำงานร่วมกันเพื่อแก้ไขปัญหาที่ซับซ้อน"
   ]
  },
  {
   "cell_type": "markdown",
   "id": "d3fd2eed",
   "metadata": {},
   "source": [
    "## ส่วนที่ 2: จุดเด่นของ ADK\n",
    "\n",
    "### 1. Multi-agent โดยการออกแบบ\n",
    "- สร้างระบบที่ประกอบด้วย Agent เฉพาะทางที่สามารถทำงานร่วมกัน\n",
    "- รองรับการ orchestrate ทั้งแบบขนาน แบบลำดับ และแบบลำดับชั้น\n",
    "- ออกแบบมาให้มีความเป็นโมดูลและสามารถขยายระบบได้ง่าย\n",
    "\n",
    "### 2. ความยืดหยุ่นของโมเดล\n",
    "- รองรับโมเดลต่าง ๆ เช่น Gemini, Claude, GPT, Llama และอื่น ๆ\n",
    "- สามารถเชื่อมต่อกับ LiteLLM เพื่อรองรับโมเดลได้หลากหลาย\n",
    "- เปลี่ยนโมเดลได้โดยไม่ต้องแก้โครงสร้างระบบหลัก\n",
    "\n",
    "### 3. ระบบนิเวศของเครื่องมือ\n",
    "- มีเครื่องมือสำเร็จรูปให้ใช้งาน เช่น search, code และอื่น ๆ\n",
    "- สามารถสร้างฟังก์ชันแบบกำหนดเองได้ง่าย\n",
    "- รองรับการเชื่อมต่อกับ LangChain และ LlamaIndex\n",
    "\n",
    "### 4. การ orchestrate ที่ยืดหยุ่น\n",
    "- รองรับการสร้าง workflow Agent\n",
    "- สามารถกำหนด routing แบบ dynamic ด้วย LLM\n",
    "- ควบคุมพฤติกรรมของ Agent ได้อย่างแม่นยำ\n",
    "\n",
    "### 5. ประสบการณ์ด้านการพัฒนา\n",
    "- มีทั้ง CLI และ Web UI ให้ใช้งาน\n",
    "- รองรับการ debug แบบแสดงผลภาพ\n",
    "- มีระบบ evaluation ในตัว\n",
    "- สามารถ deploy ได้ง่ายและรวดเร็ว"
   ]
  },
  {
   "cell_type": "markdown",
   "id": "7883e855",
   "metadata": {},
   "source": [
    "## ⚙️ ส่วนที่ 3: การติดตั้งและตั้งค่า\n",
    "\n",
    "### ขั้นตอนที่ 1: ติดตั้ง Google ADK"
   ]
  },
  {
   "cell_type": "code",
   "execution_count": null,
   "id": "7dd2e519",
   "metadata": {},
   "outputs": [],
   "source": [
    "## ติดตั้ง Google ADK\n",
    "print(\"📦 ติดตั้ง Google ADK ...\")  # ติดตั้ง Google ADK\n",
    "!pip install -qU google-adk==1.4.2\n",
    "\n",
    "# ติดตั้งไลบรารีเสริมเพิ่มเติมที่จำเป็น\n",
    "!pip install -qU python-dotenv\n",
    "\n",
    "print(\"\\n✅ ติดตั้งเสร็จสมบูรณ์!\")  # แสดงข้อความเมื่อการติดตั้งเสร็จ\n",
    "\n",
    "# ตรวจสอบเวอร์ชันที่ติดตั้งของ google-adk\n",
    "!pip show google-adk | grep -E \"Name:|Version:\""
   ]
  },
  {
   "cell_type": "markdown",
   "id": "3fef14df",
   "metadata": {},
   "source": [
    "### ขั้นตอนที่ 2: ตั้งค่า Credentials\n",
    "\n",
    "สำหรับการใช้งานโมเดลของ Google (เช่น Gemini) คุณต้องมี API Key\n",
    "\n",
    "#### 🔑 วิธีขอ API Key:\n",
    "1. ไปที่ [Google AI Studio](https://aistudio.google.com/apikey)\n",
    "2. สร้างหรือเลือกโปรเจกต์\n",
    "3. สร้าง API Key ใหม่\n",
    "4. คัดลอกและวางใน cell ด้านล่าง"
   ]
  },
  {
   "cell_type": "markdown",
   "id": "cb82511c",
   "metadata": {},
   "source": [
    "#### ตัวเลือกที่ 1: กรอก API Key ด้วยตนเอง"
   ]
  },
  {
   "cell_type": "code",
   "execution_count": null,
   "id": "47b1313d",
   "metadata": {},
   "outputs": [],
   "source": [
    "# ตั้งค่า credentials อย่างปลอดภัย\n",
    "import os\n",
    "from getpass import getpass\n",
    "\n",
    "# ขอ API Key จากผู้ใช้แบบปลอดภัย\n",
    "if 'GOOGLE_API_KEY' not in os.environ:\n",
    "    print(\"🔑 กรุณากรอก Google API Key ของคุณ:\")\n",
    "    api_key = getpass(\"API Key: \")\n",
    "    os.environ['GOOGLE_API_KEY'] = api_key\n",
    "    os.environ['GOOGLE_GENAI_USE_VERTEXAI'] = 'FALSE'\n",
    "    print(\"\\n✅ ตั้งค่า API Key เรียบร้อยแล้ว\")\n",
    "else:\n",
    "    print(\"✅ API Key ถูกตั้งค่าไว้แล้ว\")\n",
    "\n",
    "# ตรวจสอบว่า environment variable ถูกตั้งค่าหรือไม่\n",
    "print(f\"\\n📋 Environment Variable ที่ตั้งค่า:\")\n",
    "print(f\"   - GOOGLE_API_KEY: {'✓' if os.environ.get('GOOGLE_API_KEY') else '✗'}\")\n",
    "print(f\"   - GOOGLE_GENAI_USE_VERTEXAI: {os.environ.get('GOOGLE_GENAI_USE_VERTEXAI', 'No config')}\")"
   ]
  },
  {
   "cell_type": "markdown",
   "id": "43df9013",
   "metadata": {},
   "source": [
    "#### ตัวเลือกที่ 2 - Dotenv"
   ]
  },
  {
   "cell_type": "code",
   "execution_count": null,
   "id": "bb4de034",
   "metadata": {},
   "outputs": [],
   "source": [
    "from dotenv import load_dotenv\n",
    "# โหลด environment variable จากไฟล์ .env ถ้ามี\n",
    "load_dotenv(override=True)"
   ]
  },
  {
   "cell_type": "markdown",
   "id": "165a7ff7",
   "metadata": {},
   "source": [
    "## 🏗️ ส่วนที่ 4: องค์ประกอบหลักของ AI Agent\n",
    "\n",
    "```\n",
    "┌─────────────────────────────────────────────┐\n",
    "│              Google ADK                     │\n",
    "├─────────────────────────────────────────────┤\n",
    "│                                             │\n",
    "│  ┌─────────┐  ┌─────────┐  ┌─────────┐      │\n",
    "│  │ Agents  │  │  Tools  │  │Sessions │      │\n",
    "│  └────┬────┘  └────┬────┘  └────┬────┘      │\n",
    "│       │            │            │           │\n",
    "│  ┌────┴────────────┴────────────┴─────┐     │\n",
    "│  │              Runners               │     │\n",
    "│  └────────────────────────────────────┘     │\n",
    "│                                             │\n",
    "└─────────────────────────────────────────────┘\n",
    "```\n",
    "\n",
    "### 🤖 Agents\n",
    "- **LlmAgent**: Agent ที่ขับเคลื่อนด้วย LLM\n",
    "- **WorkflowAgent**: Agent ที่จัดการลำดับการทำงานของ Agent อื่น ๆ\n",
    "- **ประเภทเฉพาะทาง**:\n",
    "  - Sequential: ทำงานตามลำดับ\n",
    "  - Parallel: ทำงานพร้อมกัน\n",
    "  - Loop: ทำงานในลูป\n",
    "\n",
    "### 🔧 Tools\n",
    "- ฟังก์ชันที่ Agent สามารถเรียกใช้\n",
    "- **ที่เตรียมไว้ล่วงหน้า**: เช่น search, code ฯลฯ\n",
    "- **สามารถปรับแต่งเองได้**\n",
    "\n",
    "### ▶️ Runners\n",
    "- จัดการกระบวนการทำงาน\n",
    "- จัดการข้อความและ event\n",
    "- ควบคุมสถานะ\n",
    "\n",
    "### 💾 Sessions\n",
    "- รักษาบริบทระหว่างการโต้ตอบ\n",
    "- เก็บข้อมูลสำคัญ\n",
    "- สนับสนุนการสนทนาแบบต่อเนื่อง"
   ]
  },
  {
   "cell_type": "markdown",
   "id": "d5b518cf",
   "metadata": {},
   "source": [
    "## 🎈 ส่วนที่ 5: Agent แรกของคุณกับ ADK!\n",
    "\n",
    "### การสร้าง Agent อย่างง่าย\n",
    "\n",
    "ในส่วนนี้ เราจะสร้าง Agent ตัวแรกของเรา: ผู้ช่วยที่สามารถค้นหาข้อมูลจาก **Google** ได้\n",
    "\n",
    "#### ขั้นตอนการสร้าง Agent:\n",
    "1. **ตั้งค่าสภาพแวดล้อม**:\n",
    "   - ตรวจสอบให้แน่ใจว่าคุณติดตั้ง **ADK** (Agent Development Kit) และมี credentials จาก Google สำหรับ API\n",
    "2. **กำหนดวัตถุประสงค์ของ Agent**:\n",
    "   - Agent จะค้นหาคำตอบที่เกี่ยวข้องกับคำถามทั่วไปโดยใช้ Google Search\n",
    "3. **พัฒนาโค้ดพื้นฐาน**:\n",
    "   - ใช้ Python และไลบรารีของ Google ในการสร้าง Agent"
   ]
  },
  {
   "cell_type": "code",
   "execution_count": null,
   "id": "989a2b90",
   "metadata": {},
   "outputs": [],
   "source": [
    "from google.adk.agents import Agent\n",
    "from google.adk.runners import Runner\n",
    "from google.adk.sessions import InMemorySessionService\n",
    "from google.adk.tools import google_search\n",
    "from google.genai import types"
   ]
  },
  {
   "cell_type": "code",
   "execution_count": null,
   "id": "901583d8",
   "metadata": {},
   "outputs": [],
   "source": [
    "agent_search = Agent(\n",
    "    name=\"SimpleSearchAgent\",  # ชื่อของ Agent\n",
    "    model=\"gemini-2.5-flash\",  # เลือกโมเดลที่เร็วและประหยัด\n",
    "    description=\"Agent ที่เป็นมิตร สามารถค้นหาข้อมูลล่าสุดจาก Google ได้\",  # คำอธิบาย Agent\n",
    "    tools=[google_search],  # ใช้เครื่องมือ Google Search\n",
    "    instruction=(\n",
    "        \"คุณเป็นผู้ช่วยที่เป็นมิตรและช่วยเหลือดี \"\n",
    "        \"เมื่อถูกถาม ให้ใช้ Google search tool หากจำเป็น \"\n",
    "        \"ตอบให้กระชับและชัดเจน \"\n",
    "        \"ถ้าไม่แน่ใจ ให้ค้นหาข้อมูลล่าสุด \"\n",
    "        \"สุภาพและเป็นมืออาชีพเสมอ \"\n",
    "    )\n",
    ")"
   ]
  },
  {
   "cell_type": "code",
   "execution_count": null,
   "id": "0e2496f0",
   "metadata": {},
   "outputs": [],
   "source": [
    "# แนวคิดหลัก: SessionService จะเก็บประวัติและสถานะของการสนทนา\n",
    "# InMemorySessionService เป็นการเก็บข้อมูลแบบไม่ถาวร เหมาะสำหรับการทดลอง\n",
    "session_service = InMemorySessionService()\n",
    "\n",
    "# กำหนดค่าคงที่สำหรับบริบท\n",
    "APP_NAME = \"my_first_agent\"  # ชื่อแอป\n",
    "USER_ID = \"user_1\"  # รหัสผู้ใช้\n",
    "SESSION_ID = \"session_001\"  # รหัส session\n",
    "\n",
    "# สร้าง session สำหรับการสนทนา\n",
    "session = await session_service.create_session(\n",
    "    app_name=APP_NAME,\n",
    "    user_id=USER_ID,\n",
    "    session_id=SESSION_ID\n",
    ")\n",
    "\n",
    "print(f\"Session ถูกสร้างแล้ว: app='{APP_NAME}', user='{USER_ID}', session='{SESSION_ID}'\")"
   ]
  },
  {
   "cell_type": "code",
   "execution_count": null,
   "id": "ceff4ee4",
   "metadata": {},
   "outputs": [],
   "source": [
    "# Runner: องค์ประกอบหลักที่จัดการการโต้ตอบกับ Agent\n",
    "runner = Runner(agent=agent_search, app_name=APP_NAME, session_service=session_service)\n",
    "print(f\"Runner ถูกสร้างสำหรับ Agent '{runner.agent.name}'\")"
   ]
  },
  {
   "cell_type": "code",
   "execution_count": null,
   "id": "9a09a980",
   "metadata": {},
   "outputs": [],
   "source": [
    "# ตัวอย่าง: ส่งข้อความไปยัง Agent\n",
    "events = runner.run(user_id=USER_ID, session_id=SESSION_ID, new_message=types.Content(role='user', parts=[types.Part(text=\"คุณคือใคร?\")]))\n",
    "\n",
    "# วนลูปดู event ที่ Agent ตอบกลับ\n",
    "for event in events:\n",
    "    if event.is_final_response():\n",
    "        if event.grounding_metadata.grounding_chunks:\n",
    "            for _ in event.grounding_metadata.grounding_chunks:\n",
    "                print(f\"Grounding Chunk: {_.web.title}\")\n",
    "        else:\n",
    "            print(\"ไม่ต้อง grounding\")\n",
    "        final_response = event.content.parts[0].text\n",
    "        print(\"Agent ตอบกลับ: \", final_response)"
   ]
  },
  {
   "cell_type": "code",
   "execution_count": null,
   "id": "8b5757aa",
   "metadata": {},
   "outputs": [],
   "source": [
    "# ตัวอย่าง: ส่งข้อความไปยัง Agent\n",
    "events = runner.run(user_id=USER_ID, session_id=SESSION_ID, new_message=types.Content(role='user', parts=[types.Part(text=\"ข่าวล่าสุดเกี่ยวกับ AI คืออะไร?\")]))\n",
    "\n",
    "for event in events:\n",
    "    if event.is_final_response():\n",
    "        if event.grounding_metadata.grounding_chunks:\n",
    "            for _ in event.grounding_metadata.grounding_chunks:\n",
    "                print(f\"Grounding Chunk: {_.web.title}\")\n",
    "        else:\n",
    "            print(\"ไม่ต้อง grounding\")\n",
    "        final_response = event.content.parts[0].text\n",
    "        print(\"Agent ตอบกลับ: \", final_response)"
   ]
  },
  {
   "cell_type": "markdown",
   "id": "b157235a",
   "metadata": {},
   "source": [
    "### การสื่อสารกับ Agent โดยใช้ `async`\n",
    "\n",
    "เราต้องมีวิธีส่งข้อความไปยัง Agent และรับคำตอบกลับ เนื่องจากการเรียก LLM และการใช้ Tools อาจใช้เวลานาน `Runner` ของ ADK จึงรองรับ asynchronous\n",
    "\n",
    "เราจะสร้างฟังก์ชันช่วยเหลือแบบ async (`call_agent_async`) ซึ่ง:\n",
    "- รับข้อความจากผู้ใช้\n",
    "- แปลงเป็น `Content` ของ ADK\n",
    "- เรียก `runner.run_async` พร้อมบริบท\n",
    "- วนลูปดู event ที่เกิดขึ้น\n",
    "- หยุดเมื่อเจอ event ที่เป็น final response\n",
    "\n",
    "#### ทำไมต้องใช้ `async`?\n",
    "\n",
    "การโต้ตอบกับ LLM และ Tools เป็น I/O-bound การใช้ `asyncio` ช่วยให้โปรแกรมไม่ block และทำงานได้มีประสิทธิภาพ"
   ]
  },
  {
   "cell_type": "code",
   "execution_count": null,
   "id": "5c737202",
   "metadata": {},
   "outputs": [],
   "source": [
    "import asyncio\n",
    "async def call_agent_async(query: str, runner, user_id, session_id):\n",
    "    \"\"\"ส่งข้อความไปยัง Agent และแสดงผลลัพธ์สุดท้าย\"\"\"\n",
    "    print(f\"\\n>>> คำถามผู้ใช้: {query}\")\n",
    "    content = types.Content(role='user', parts=[types.Part(text=query)])\n",
    "    final_response_text = \"Agent ไม่ได้ตอบกลับสุดท้าย\"  # ค่าเริ่มต้น\n",
    "    async for event in runner.run_async(user_id=user_id, session_id=session_id, new_message=content):\n",
    "        # สามารถ print event ทั้งหมดได้ถ้าต้องการ debug\n",
    "        if event.is_final_response():\n",
    "            if event.content and event.content.parts:\n",
    "                final_response_text = event.content.parts[0].text\n",
    "            elif event.actions and event.actions.escalate:\n",
    "                final_response_text = f\"Agent escalate: {event.error_message or 'ไม่มีข้อความ error'}\"\n",
    "            break\n",
    "    print(f\"<<< คำตอบ Agent: {final_response_text}\")"
   ]
  },
  {
   "cell_type": "code",
   "execution_count": null,
   "id": "899a8bf4",
   "metadata": {},
   "outputs": [],
   "source": [
    "await call_agent_async(\"ข่าวล่าสุดเกี่ยวกับ AI คืออะไร? (ค้นหาข้อมูลถ้าจำเป็น)\", runner=runner, user_id=USER_ID, session_id=SESSION_ID)"
   ]
  },
  {
   "cell_type": "markdown",
   "id": "b44e3f24",
   "metadata": {},
   "source": [
    "## 🎈 ส่วนที่ 6: ก่อนจบ มาสร้าง Agent ที่ deploy ได้จริง!\n",
    "\n",
    "### ตัวอย่าง Hello World ของ Agent ในรูปแบบ .py\n",
    "\n",
    "เราจะสร้าง Agent ที่สามารถแยกแยะได้ว่าควรเรียกฟังก์ชันเกี่ยวกับเวลา (time) หรืออากาศ (weather) โดยใช้ environment ของ ADK"
   ]
  },
  {
   "cell_type": "markdown",
   "id": "30751f76",
   "metadata": {},
   "source": [
    "### 🧭 ไปที่โฟลเดอร์โปรเจกต์และรันคำสั่งที่เหมาะสม\n",
    "\n",
    "ตรวจสอบให้แน่ใจว่าอยู่ในโฟลเดอร์โปรเจกต์ จากนั้นรันคำสั่งต่อไปนี้:\n",
    "\n",
    "* เปิด Web UI ของ Agent:\n",
    "  ```bash\n",
    "  adk web\n",
    "  ```\n",
    "* รัน Agent จาก command line:\n",
    "  ```bash\n",
    "  adk run \"My First Agent\"\n",
    "  ```\n",
    "\n",
    "### 📂 โครงสร้างโปรเจกต์ที่คาดหวัง:\n",
    "```\n",
    "My First Agent\n",
    "├── __init__.py\n",
    "└── agent.py\n",
    "```"
   ]
  },
  {
   "cell_type": "markdown",
   "id": "1fd3755d",
   "metadata": {},
   "source": [
    "![image.png](attachment:image.png)"
   ]
  },
  {
   "cell_type": "markdown",
   "id": "6159a0af",
   "metadata": {},
   "source": [
    "## 🎓 สรุปและก้าวต่อไป\n",
    "\n",
    "### 🎉 ยินดีด้วย!\n",
    "\n",
    "คุณได้เรียนรู้เนื้อหาครบถ้วนเกี่ยวกับ Google Agent Development Kit:\n",
    "\n",
    "- ✅ เข้าใจว่า ADK คืออะไรและข้อดีหลัก\n",
    "- ✅ วิธีติดตั้งและตั้งค่าสภาพแวดล้อม\n",
    "- ✅ องค์ประกอบหลักของสถาปัตยกรรม\n",
    "- ✅ วิธีสร้าง Agent แรกของคุณ\n",
    "- ✅ การใช้ ADK run และ ADK web\n",
    "- ✅ แนวทางปฏิบัติที่ดีที่สุดสำหรับการพัฒนา\n",
    "\n",
    "พร้อมเริ่มต้นสร้าง AI Agent ของคุณเองแล้ว!"
   ]
  },
  {
   "cell_type": "markdown",
   "id": "5b5f32ca",
   "metadata": {},
   "source": []
  },
  {
   "cell_type": "markdown",
   "id": "31fad956",
   "metadata": {},
   "source": []
  },
  {
   "cell_type": "markdown",
   "id": "b9bca7a7",
   "metadata": {},
   "source": []
  }
 ],
 "metadata": {
  "kernelspec": {
   "display_name": "Python 3",
   "language": "python",
   "name": "python3"
  },
  "language_info": {
   "codemirror_mode": {
    "name": "ipython",
    "version": 3
   },
   "file_extension": ".py",
   "mimetype": "text/x-python",
   "name": "python",
   "nbconvert_exporter": "python",
   "pygments_lexer": "ipython3",
   "version": "3.12.1"
  }
 },
 "nbformat": 4,
 "nbformat_minor": 5
}
