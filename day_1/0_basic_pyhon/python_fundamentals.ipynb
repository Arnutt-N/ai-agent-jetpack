{
 "cells": [
  {
   "cell_type": "markdown",
   "id": "09b3a31e",
   "metadata": {},
   "source": [
    "# 🐍 Basic Python for AI Agent Development\n",
    "Notebook นี้จะแนะนำแนวคิดพื้นฐานของภาษา Python ที่จำเป็นสำหรับการสร้าง AI Agent\n",
    "\n",
    "**ภาพรวมเนื้อหา:**\n",
    "1. Variables and Data Types - ตัวแปรและชนิดข้อมูลพื้นฐาน\n",
    "2. Control Flow: if, elif, else if - การควบคุมการไหลของโปรแกรม\n",
    "3. Function - ฟังก์ชันใน Python และการใช้งานกับ AI Agent\n",
    "4. Installing Libraries - การติดตั้งไลบรารี\n",
    "5. Environment Variables - ตัวแปรสภาพแวดล้อม"
   ]
  },
  {
   "cell_type": "markdown",
   "id": "ca0322cd",
   "metadata": {},
   "source": [
    "## 1.Variables and Data Types\n",
    "เรียนรู้วิธีการกำหนดตัวแปรและใช้งานชนิดข้อมูลพื้นฐานในภาษา Python เช่น จำนวนเต็ม (integer), ทศนิยม (float), สตริง (string) และบูลีน (boolean)"
   ]
  },
  {
   "cell_type": "markdown",
   "id": "9fb575ef",
   "metadata": {},
   "source": [
    "### ตัวอย่างชนิดข้อมูลพื้นฐาน (Data Types)\n",
    "- จำนวนเต็ม (Integer)\n",
    "- ทศนิยม (Float)\n",
    "- สตริง (String)\n",
    "- บูลีน (Boolean)\n",
    "- ลิสต์ (List)\n",
    "- ดิกชันนารี (Dictionary)"
   ]
  },
  {
   "cell_type": "code",
   "execution_count": 1,
   "id": "a0f25fed",
   "metadata": {},
   "outputs": [
    {
     "name": "stdout",
     "output_type": "stream",
     "text": [
      "<class 'int'> 10\n",
      "<class 'float'> 3.14\n",
      "<class 'str'> Agent\n",
      "<class 'bool'> True\n",
      "<class 'list'> [1, 2, 2, 3]\n"
     ]
    }
   ],
   "source": [
    "# Variable assignment and data types\n",
    "x = 10           # integer\n",
    "y = 3.14         # float\n",
    "name = \"Agent\"   # string\n",
    "is_ai = True     # boolean\n",
    "my_list = [1, 2, 2, 3]  #list\n",
    "\n",
    "print(type(x), x)\n",
    "print(type(y), y)\n",
    "print(type(name), name)\n",
    "print(type(is_ai), is_ai)\n",
    "print(type(my_list), my_list)"
   ]
  },
  {
   "cell_type": "code",
   "execution_count": 2,
   "id": "d5664009",
   "metadata": {},
   "outputs": [
    {
     "name": "stdout",
     "output_type": "stream",
     "text": [
      "Dictionary: {'name': 'Python', 'version': 3.9, 'is_fun': True}, Type: <class 'dict'>\n"
     ]
    }
   ],
   "source": [
    "\n",
    "# Dictionary (Key-value pairs)\n",
    "my_dict = {\n",
    "    \"name\": \"Python\",\n",
    "    \"version\": 3.9,\n",
    "    \"is_fun\": True\n",
    "}\n",
    "print(f\"Dictionary: {my_dict}, Type: {type(my_dict)}\")"
   ]
  },
  {
   "cell_type": "markdown",
   "id": "28425c07",
   "metadata": {},
   "source": [
    "## 2.Control Flow: if, elif, else\n",
    "ตัวอย่างการใช้โครงสร้างควบคุมเงื่อนไขในภาษา Python เพื่อให้โปรแกรมตัดสินใจได้\n",
    "\n",
    "<img width=\"500px\" src=\"https://static.takeuforward.org/wp/uploads/2023/09/if-else.png\"></img>"
   ]
  },
  {
   "cell_type": "code",
   "execution_count": 3,
   "id": "9ab770e1",
   "metadata": {},
   "outputs": [
    {
     "name": "stdout",
     "output_type": "stream",
     "text": [
      "\n",
      "คะแนน = 75\n",
      "สอบผ่าน\n"
     ]
    }
   ],
   "source": [
    "#if-else\n",
    "score = 75\n",
    "print(f\"\\nคะแนน = {score}\")\n",
    "if score >= 50:\n",
    "    print(\"สอบผ่าน\")\n",
    "else:\n",
    "    print(\"สอบไม่ผ่าน\")\n"
   ]
  },
  {
   "cell_type": "markdown",
   "id": "fa885fff",
   "metadata": {},
   "source": [
    "## 3.Functions\n",
    "ฟังก์ชันช่วยจัดระเบียบโค้ดและทำให้สามารถนำกลับมาใช้ซ้ำได้ ซึ่งบางครั้งก็ AI Agent มักใช้ Function calling เพื่อประมวลผลข้อมูลหรือช่วยในการตัดสินใจ\n",
    "\n",
    "<img src=\"https://s3-us-west-2.amazonaws.com/courses-images/wp-content/uploads/sites/1861/2017/06/23161835/apple-slicing-function.png\" alt=\"Function Domain and Range\" width=\"500\"/>\n"
   ]
  },
  {
   "cell_type": "code",
   "execution_count": 4,
   "id": "913be5e2",
   "metadata": {},
   "outputs": [
    {
     "name": "stdout",
     "output_type": "stream",
     "text": [
      "Hello, Agent! Ready to build an AI agent?\n"
     ]
    }
   ],
   "source": [
    "# Define a simple function\n",
    "def greet_agent(name):\n",
    "    return f\"Hello, {name}! Ready to build an AI agent?\"\n",
    "\n",
    "print(greet_agent(\"Agent\"))"
   ]
  },
  {
   "cell_type": "markdown",
   "id": "dd0ff22b",
   "metadata": {},
   "source": [
    "##  4.Installing Libraries - การติดตั้งไลบรารี\n",
    "\n",
    "Python มีไลบรารีมากมายที่ช่วยให้การพัฒนา AI Agent ง่ายขึ้น เช่น numpy, pandas, requests ฯลฯ\n",
    "\n",
    "การติดตั้งไลบรารีนิยมใช้คำสั่ง `pip` ใน Jupyter Notebook สามารถใช้ `!` นำหน้าคำสั่ง shell ได้ เช่น"
   ]
  },
  {
   "cell_type": "code",
   "execution_count": 2,
   "id": "f2771690",
   "metadata": {},
   "outputs": [
    {
     "name": "stdout",
     "output_type": "stream",
     "text": [
      "Requirement already satisfied: numpy in /home/codespace/.local/lib/python3.12/site-packages (2.2.6)\n",
      "Requirement already satisfied: python-dotenv in /usr/local/python/3.12.1/lib/python3.12/site-packages (1.1.1)\n",
      "Requirement already satisfied: line-bot-sdk>=3.16.3 in /usr/local/python/3.12.1/lib/python3.12/site-packages (from -r ../requirements.txt (line 1)) (3.17.1)\n",
      "Requirement already satisfied: functions-framework in /usr/local/python/3.12.1/lib/python3.12/site-packages (from -r ../requirements.txt (line 2)) (3.8.3)\n",
      "Requirement already satisfied: google-genai in /usr/local/python/3.12.1/lib/python3.12/site-packages (from -r ../requirements.txt (line 3)) (1.25.0)\n",
      "Requirement already satisfied: python-dotenv in /usr/local/python/3.12.1/lib/python3.12/site-packages (from -r ../requirements.txt (line 4)) (1.1.1)\n",
      "Requirement already satisfied: setuptools<81 in /home/codespace/.local/lib/python3.12/site-packages (from -r ../requirements.txt (line 5)) (80.9.0)\n",
      "Requirement already satisfied: requests<3,>=2.32.3 in /home/codespace/.local/lib/python3.12/site-packages (from line-bot-sdk>=3.16.3->-r ../requirements.txt (line 1)) (2.32.3)\n",
      "Requirement already satisfied: urllib3<3,>=2.0.5 in /home/codespace/.local/lib/python3.12/site-packages (from line-bot-sdk>=3.16.3->-r ../requirements.txt (line 1)) (2.4.0)\n",
      "Requirement already satisfied: aiohttp<4,>=3.10.9 in /usr/local/python/3.12.1/lib/python3.12/site-packages (from line-bot-sdk>=3.16.3->-r ../requirements.txt (line 1)) (3.12.14)\n",
      "Requirement already satisfied: future>=1.0.0 in /usr/local/python/3.12.1/lib/python3.12/site-packages (from line-bot-sdk>=3.16.3->-r ../requirements.txt (line 1)) (1.0.0)\n",
      "Requirement already satisfied: pydantic<3,>=2.0.3 in /usr/local/python/3.12.1/lib/python3.12/site-packages (from line-bot-sdk>=3.16.3->-r ../requirements.txt (line 1)) (2.11.7)\n",
      "Requirement already satisfied: aenum<4,>=3.1.11 in /usr/local/python/3.12.1/lib/python3.12/site-packages (from line-bot-sdk>=3.16.3->-r ../requirements.txt (line 1)) (3.1.16)\n",
      "Requirement already satisfied: python_dateutil<3,>=2.5.3 in /home/codespace/.local/lib/python3.12/site-packages (from line-bot-sdk>=3.16.3->-r ../requirements.txt (line 1)) (2.9.0.post0)\n",
      "Requirement already satisfied: Deprecated>=1.2.18 in /usr/local/python/3.12.1/lib/python3.12/site-packages (from line-bot-sdk>=3.16.3->-r ../requirements.txt (line 1)) (1.2.18)\n",
      "Requirement already satisfied: aiohappyeyeballs>=2.5.0 in /usr/local/python/3.12.1/lib/python3.12/site-packages (from aiohttp<4,>=3.10.9->line-bot-sdk>=3.16.3->-r ../requirements.txt (line 1)) (2.6.1)\n",
      "Requirement already satisfied: aiosignal>=1.4.0 in /usr/local/python/3.12.1/lib/python3.12/site-packages (from aiohttp<4,>=3.10.9->line-bot-sdk>=3.16.3->-r ../requirements.txt (line 1)) (1.4.0)\n",
      "Requirement already satisfied: attrs>=17.3.0 in /home/codespace/.local/lib/python3.12/site-packages (from aiohttp<4,>=3.10.9->line-bot-sdk>=3.16.3->-r ../requirements.txt (line 1)) (25.3.0)\n",
      "Requirement already satisfied: frozenlist>=1.1.1 in /usr/local/python/3.12.1/lib/python3.12/site-packages (from aiohttp<4,>=3.10.9->line-bot-sdk>=3.16.3->-r ../requirements.txt (line 1)) (1.7.0)\n",
      "Requirement already satisfied: multidict<7.0,>=4.5 in /usr/local/python/3.12.1/lib/python3.12/site-packages (from aiohttp<4,>=3.10.9->line-bot-sdk>=3.16.3->-r ../requirements.txt (line 1)) (6.6.3)\n",
      "Requirement already satisfied: propcache>=0.2.0 in /usr/local/python/3.12.1/lib/python3.12/site-packages (from aiohttp<4,>=3.10.9->line-bot-sdk>=3.16.3->-r ../requirements.txt (line 1)) (0.3.2)\n",
      "Requirement already satisfied: yarl<2.0,>=1.17.0 in /usr/local/python/3.12.1/lib/python3.12/site-packages (from aiohttp<4,>=3.10.9->line-bot-sdk>=3.16.3->-r ../requirements.txt (line 1)) (1.20.1)\n",
      "Requirement already satisfied: annotated-types>=0.6.0 in /usr/local/python/3.12.1/lib/python3.12/site-packages (from pydantic<3,>=2.0.3->line-bot-sdk>=3.16.3->-r ../requirements.txt (line 1)) (0.7.0)\n",
      "Requirement already satisfied: pydantic-core==2.33.2 in /usr/local/python/3.12.1/lib/python3.12/site-packages (from pydantic<3,>=2.0.3->line-bot-sdk>=3.16.3->-r ../requirements.txt (line 1)) (2.33.2)\n",
      "Requirement already satisfied: typing-extensions>=4.12.2 in /home/codespace/.local/lib/python3.12/site-packages (from pydantic<3,>=2.0.3->line-bot-sdk>=3.16.3->-r ../requirements.txt (line 1)) (4.13.2)\n",
      "Requirement already satisfied: typing-inspection>=0.4.0 in /usr/local/python/3.12.1/lib/python3.12/site-packages (from pydantic<3,>=2.0.3->line-bot-sdk>=3.16.3->-r ../requirements.txt (line 1)) (0.4.1)\n",
      "Requirement already satisfied: six>=1.5 in /home/codespace/.local/lib/python3.12/site-packages (from python_dateutil<3,>=2.5.3->line-bot-sdk>=3.16.3->-r ../requirements.txt (line 1)) (1.17.0)\n",
      "Requirement already satisfied: charset-normalizer<4,>=2 in /home/codespace/.local/lib/python3.12/site-packages (from requests<3,>=2.32.3->line-bot-sdk>=3.16.3->-r ../requirements.txt (line 1)) (3.4.2)\n",
      "Requirement already satisfied: idna<4,>=2.5 in /home/codespace/.local/lib/python3.12/site-packages (from requests<3,>=2.32.3->line-bot-sdk>=3.16.3->-r ../requirements.txt (line 1)) (3.10)\n",
      "Requirement already satisfied: certifi>=2017.4.17 in /home/codespace/.local/lib/python3.12/site-packages (from requests<3,>=2.32.3->line-bot-sdk>=3.16.3->-r ../requirements.txt (line 1)) (2025.4.26)\n",
      "Requirement already satisfied: flask<4.0,>=2.0 in /usr/local/python/3.12.1/lib/python3.12/site-packages (from functions-framework->-r ../requirements.txt (line 2)) (3.1.1)\n",
      "Requirement already satisfied: click<9.0,>=7.0 in /usr/local/python/3.12.1/lib/python3.12/site-packages (from functions-framework->-r ../requirements.txt (line 2)) (8.2.1)\n",
      "Requirement already satisfied: watchdog>=1.0.0 in /usr/local/python/3.12.1/lib/python3.12/site-packages (from functions-framework->-r ../requirements.txt (line 2)) (6.0.0)\n",
      "Requirement already satisfied: gunicorn>=22.0.0 in /usr/local/python/3.12.1/lib/python3.12/site-packages (from functions-framework->-r ../requirements.txt (line 2)) (23.0.0)\n",
      "Requirement already satisfied: cloudevents<2.0.0,>=1.2.0 in /usr/local/python/3.12.1/lib/python3.12/site-packages (from functions-framework->-r ../requirements.txt (line 2)) (1.12.0)\n",
      "Requirement already satisfied: Werkzeug<4.0.0,>=0.14 in /usr/local/python/3.12.1/lib/python3.12/site-packages (from functions-framework->-r ../requirements.txt (line 2)) (3.1.3)\n",
      "Requirement already satisfied: deprecation<3.0,>=2.0 in /usr/local/python/3.12.1/lib/python3.12/site-packages (from cloudevents<2.0.0,>=1.2.0->functions-framework->-r ../requirements.txt (line 2)) (2.1.0)\n",
      "Requirement already satisfied: packaging in /home/codespace/.local/lib/python3.12/site-packages (from deprecation<3.0,>=2.0->cloudevents<2.0.0,>=1.2.0->functions-framework->-r ../requirements.txt (line 2)) (25.0)\n",
      "Requirement already satisfied: blinker>=1.9.0 in /usr/local/python/3.12.1/lib/python3.12/site-packages (from flask<4.0,>=2.0->functions-framework->-r ../requirements.txt (line 2)) (1.9.0)\n",
      "Requirement already satisfied: itsdangerous>=2.2.0 in /usr/local/python/3.12.1/lib/python3.12/site-packages (from flask<4.0,>=2.0->functions-framework->-r ../requirements.txt (line 2)) (2.2.0)\n",
      "Requirement already satisfied: jinja2>=3.1.2 in /home/codespace/.local/lib/python3.12/site-packages (from flask<4.0,>=2.0->functions-framework->-r ../requirements.txt (line 2)) (3.1.6)\n",
      "Requirement already satisfied: markupsafe>=2.1.1 in /home/codespace/.local/lib/python3.12/site-packages (from flask<4.0,>=2.0->functions-framework->-r ../requirements.txt (line 2)) (3.0.2)\n",
      "Requirement already satisfied: anyio<5.0.0,>=4.8.0 in /home/codespace/.local/lib/python3.12/site-packages (from google-genai->-r ../requirements.txt (line 3)) (4.9.0)\n",
      "Requirement already satisfied: google-auth<3.0.0,>=2.14.1 in /usr/local/python/3.12.1/lib/python3.12/site-packages (from google-genai->-r ../requirements.txt (line 3)) (2.40.3)\n",
      "Requirement already satisfied: httpx<1.0.0,>=0.28.1 in /home/codespace/.local/lib/python3.12/site-packages (from google-genai->-r ../requirements.txt (line 3)) (0.28.1)\n",
      "Requirement already satisfied: tenacity<9.0.0,>=8.2.3 in /usr/local/python/3.12.1/lib/python3.12/site-packages (from google-genai->-r ../requirements.txt (line 3)) (8.5.0)\n",
      "Requirement already satisfied: websockets<15.1.0,>=13.0.0 in /usr/local/python/3.12.1/lib/python3.12/site-packages (from google-genai->-r ../requirements.txt (line 3)) (15.0.1)\n",
      "Requirement already satisfied: sniffio>=1.1 in /home/codespace/.local/lib/python3.12/site-packages (from anyio<5.0.0,>=4.8.0->google-genai->-r ../requirements.txt (line 3)) (1.3.1)\n",
      "Requirement already satisfied: cachetools<6.0,>=2.0.0 in /usr/local/python/3.12.1/lib/python3.12/site-packages (from google-auth<3.0.0,>=2.14.1->google-genai->-r ../requirements.txt (line 3)) (5.5.2)\n",
      "Requirement already satisfied: pyasn1-modules>=0.2.1 in /usr/local/python/3.12.1/lib/python3.12/site-packages (from google-auth<3.0.0,>=2.14.1->google-genai->-r ../requirements.txt (line 3)) (0.4.2)\n",
      "Requirement already satisfied: rsa<5,>=3.1.4 in /usr/local/python/3.12.1/lib/python3.12/site-packages (from google-auth<3.0.0,>=2.14.1->google-genai->-r ../requirements.txt (line 3)) (4.9.1)\n",
      "Requirement already satisfied: httpcore==1.* in /home/codespace/.local/lib/python3.12/site-packages (from httpx<1.0.0,>=0.28.1->google-genai->-r ../requirements.txt (line 3)) (1.0.9)\n",
      "Requirement already satisfied: h11>=0.16 in /home/codespace/.local/lib/python3.12/site-packages (from httpcore==1.*->httpx<1.0.0,>=0.28.1->google-genai->-r ../requirements.txt (line 3)) (0.16.0)\n",
      "Requirement already satisfied: pyasn1>=0.1.3 in /usr/local/python/3.12.1/lib/python3.12/site-packages (from rsa<5,>=3.1.4->google-auth<3.0.0,>=2.14.1->google-genai->-r ../requirements.txt (line 3)) (0.6.1)\n",
      "Requirement already satisfied: wrapt<2,>=1.10 in /usr/local/python/3.12.1/lib/python3.12/site-packages (from Deprecated>=1.2.18->line-bot-sdk>=3.16.3->-r ../requirements.txt (line 1)) (1.17.2)\n"
     ]
    }
   ],
   "source": [
    "# ตัวอย่างการติดตั้งไลบรารี numpy\n",
    "!pip install numpy\n",
    "!pip install python-dotenv\n",
    "!pip install -r ../requirements.txt"
   ]
  },
  {
   "cell_type": "markdown",
   "id": "8b98d32f",
   "metadata": {},
   "source": [
    "## 5.Environment Variables - ตัวแปรสภาพแวดล้อม\n",
    "ตัวแปรสภาพแวดล้อม (Environment Variables) สำหรับจัดการ API Key, Token หรือค่าคอนฟิกต่าง ๆ ที่ไม่ควรเขียนไว้ตรง ๆ ในโค้ด\n",
    "- อ่านค่า: os.environ.get('KEY')\n",
    "- กำหนดค่า: os.environ['KEY'] = 'value'\n",
    "- เหมาะสำหรับเก็บข้อมูลสำคัญอย่างปลอดภัย"
   ]
  },
  {
   "cell_type": "code",
   "execution_count": null,
   "id": "bf964102",
   "metadata": {},
   "outputs": [],
   "source": [
    "%%bash\n",
    "cat <<EOF > ../.env\n",
    "GEMINI_API_KEY=\"gemini_api_key\"\n",
    "LINE_CHANNEL_ID=\"your_channel_id\"\n",
    "LINE_CHANNEL_SECRET=\"your_channel_secret\"\n",
    "LINE_CHANNEL_ACCESS_TOKEN=\"your_channel_access_token\"\n",
    "EOF"
   ]
  }
 ],
 "metadata": {
  "kernelspec": {
   "display_name": "Python 3",
   "language": "python",
   "name": "python3"
  },
  "language_info": {
   "codemirror_mode": {
    "name": "ipython",
    "version": 3
   },
   "file_extension": ".py",
   "mimetype": "text/x-python",
   "name": "python",
   "nbconvert_exporter": "python",
   "pygments_lexer": "ipython3",
   "version": "3.12.1"
  }
 },
 "nbformat": 4,
 "nbformat_minor": 5
}
