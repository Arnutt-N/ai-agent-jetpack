{
 "cells": [
  {
   "cell_type": "markdown",
   "id": "09b3a31e",
   "metadata": {},
   "source": [
    "# 🐍 Basic Python for AI Agent Development\n",
    "Notebook นี้จะแนะนำแนวคิดพื้นฐานของภาษา Python ที่จำเป็นสำหรับการสร้าง AI Agent\n",
    "\n",
    "**ภาพรวมเนื้อหา:**\n",
    "1. Variables and Data Types - ตัวแปรและชนิดข้อมูลพื้นฐาน\n",
    "2. Control Flow: if, elif, else if - การควบคุมการไหลของโปรแกรม\n",
    "3. Function - ฟังก์ชันใน Python และการใช้งานกับ AI Agent\n",
    "4. Installing Libraries - การติดตั้งไลบรารี\n",
    "5. Environment Variables - ตัวแปรสภาพแวดล้อม"
   ]
  },
  {
   "cell_type": "markdown",
   "id": "ca0322cd",
   "metadata": {},
   "source": [
    "## 1.Variables and Data Types\n",
    "เรียนรู้วิธีการกำหนดตัวแปรและใช้งานชนิดข้อมูลพื้นฐานในภาษา Python เช่น จำนวนเต็ม (integer), ทศนิยม (float), สตริง (string) และบูลีน (boolean)"
   ]
  },
  {
   "cell_type": "markdown",
   "id": "9fb575ef",
   "metadata": {},
   "source": [
    "### ตัวอย่างชนิดข้อมูลพื้นฐาน (Data Types)\n",
    "- จำนวนเต็ม (Integer)\n",
    "- ทศนิยม (Float)\n",
    "- สตริง (String)\n",
    "- บูลีน (Boolean)\n",
    "- ลิสต์ (List)\n",
    "- ดิกชันนารี (Dictionary)"
   ]
  },
  {
   "cell_type": "code",
   "execution_count": null,
   "id": "a0f25fed",
   "metadata": {},
   "outputs": [],
   "source": [
    "# Variable assignment and data types\n",
    "x = 10           # integer\n",
    "y = 3.14         # float\n",
    "name = \"Agent\"   # string\n",
    "is_ai = True     # boolean\n",
    "my_list = [1, 2, 2, 3]  #list\n",
    "\n",
    "print(type(x), x)\n",
    "print(type(y), y)\n",
    "print(type(name), name)\n",
    "print(type(is_ai), is_ai)\n",
    "print(type(my_list), my_list)"
   ]
  },
  {
   "cell_type": "code",
   "execution_count": null,
   "id": "d5664009",
   "metadata": {},
   "outputs": [],
   "source": [
    "\n",
    "# Dictionary (Key-value pairs)\n",
    "my_dict = {\n",
    "    \"name\": \"Python\",\n",
    "    \"version\": 3.9,\n",
    "    \"is_fun\": True\n",
    "}\n",
    "print(f\"Dictionary: {my_dict}, Type: {type(my_dict)}\")"
   ]
  },
  {
   "cell_type": "markdown",
   "id": "28425c07",
   "metadata": {},
   "source": [
    "## 2.Control Flow: if, elif, else\n",
    "ตัวอย่างการใช้โครงสร้างควบคุมเงื่อนไขในภาษา Python เพื่อให้โปรแกรมตัดสินใจได้\n",
    "\n",
    "<img width=\"500px\" src=\"https://static.takeuforward.org/wp/uploads/2023/09/if-else.png\"></img>"
   ]
  },
  {
   "cell_type": "code",
   "execution_count": null,
   "id": "9ab770e1",
   "metadata": {},
   "outputs": [],
   "source": [
    "#if-else\n",
    "score = 75\n",
    "print(f\"\\nคะแนน = {score}\")\n",
    "if score >= 50:\n",
    "    print(\"สอบผ่าน\")\n",
    "else:\n",
    "    print(\"สอบไม่ผ่าน\")\n"
   ]
  },
  {
   "cell_type": "markdown",
   "id": "fa885fff",
   "metadata": {},
   "source": [
    "## 3.Functions\n",
    "ฟังก์ชันช่วยจัดระเบียบโค้ดและทำให้สามารถนำกลับมาใช้ซ้ำได้ ซึ่งบางครั้งก็ AI Agent มักใช้ Function calling เพื่อประมวลผลข้อมูลหรือช่วยในการตัดสินใจ\n",
    "\n",
    "<img src=\"https://s3-us-west-2.amazonaws.com/courses-images/wp-content/uploads/sites/1861/2017/06/23161835/apple-slicing-function.png\" alt=\"Function Domain and Range\" width=\"500\"/>\n"
   ]
  },
  {
   "cell_type": "code",
   "execution_count": null,
   "id": "913be5e2",
   "metadata": {},
   "outputs": [],
   "source": [
    "# Define a simple function\n",
    "def greet_agent(name):\n",
    "    return f\"Hello, {name}! Ready to build an AI agent?\"\n",
    "\n",
    "print(greet_agent(\"Agent\"))"
   ]
  },
  {
   "cell_type": "markdown",
   "id": "dd0ff22b",
   "metadata": {},
   "source": [
    "##  4.Installing Libraries - การติดตั้งไลบรารี\n",
    "\n",
    "Python มีไลบรารีมากมายที่ช่วยให้การพัฒนา AI Agent ง่ายขึ้น เช่น numpy, pandas, requests ฯลฯ\n",
    "\n",
    "การติดตั้งไลบรารีนิยมใช้คำสั่ง `pip` ใน Jupyter Notebook สามารถใช้ `!` นำหน้าคำสั่ง shell ได้ เช่น"
   ]
  },
  {
   "cell_type": "code",
   "execution_count": null,
   "id": "f2771690",
   "metadata": {},
   "outputs": [],
   "source": [
    "# ตัวอย่างการติดตั้งไลบรารี numpy\n",
    "!pip install numpy\n",
    "!pip install python-dotenv\n",
    "!pip install -r ../requirements.txt"
   ]
  },
  {
   "cell_type": "markdown",
   "id": "8b98d32f",
   "metadata": {},
   "source": [
    "## 5.Environment Variables - ตัวแปรสภาพแวดล้อม\n",
    "ตัวแปรสภาพแวดล้อม (Environment Variables) สำหรับจัดการ API Key, Token หรือค่าคอนฟิกต่าง ๆ ที่ไม่ควรเขียนไว้ตรง ๆ ในโค้ด\n",
    "- อ่านค่า: os.environ.get('KEY')\n",
    "- กำหนดค่า: os.environ['KEY'] = 'value'\n",
    "- เหมาะสำหรับเก็บข้อมูลสำคัญอย่างปลอดภัย"
   ]
  },
  {
   "cell_type": "code",
   "execution_count": null,
   "id": "bf964102",
   "metadata": {},
   "outputs": [],
   "source": [
    "%%bash\n",
    "cat <<EOF > ../.env\n",
    "GEMINI_API_KEY=\"gemini_api_key\"\n",
    "LINE_CHANNEL_ID=\"your_channel_id\"\n",
    "LINE_CHANNEL_SECRET=\"your_channel_secret\"\n",
    "LINE_CHANNEL_ACCESS_TOKEN=\"your_channel_access_token\"\n",
    "LINE_USER_ID=\"your_line_user_id\"\n",
    "EOF"
   ]
  }
 ],
 "metadata": {
  "kernelspec": {
   "display_name": "Python 3",
   "language": "python",
   "name": "python3"
  },
  "language_info": {
   "codemirror_mode": {
    "name": "ipython",
    "version": 3
   },
   "file_extension": ".py",
   "mimetype": "text/x-python",
   "name": "python",
   "nbconvert_exporter": "python",
   "pygments_lexer": "ipython3",
   "version": "3.12.1"
  }
 },
 "nbformat": 4,
 "nbformat_minor": 5
}
