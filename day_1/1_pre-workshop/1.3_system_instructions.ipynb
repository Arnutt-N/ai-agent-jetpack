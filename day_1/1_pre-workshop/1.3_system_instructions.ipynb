{
 "cells": [
  {
   "cell_type": "markdown",
   "metadata": {
    "id": "b_5PfTJ-8htn"
   },
   "source": [
    "# ตัวอย่างการใช้งาน System instructions กับ Gemini \n",
    "stem instructions คือการกำหนดคำสั่งหรือบริบทให้โมเดล เพื่อควบคุมพฤติกรรมหรือแนวทางการตอบของโมเดล เช่น กำหนดให้โมเดลพูดสุภาพ ตอบสั้น หรือมีบุคลิกเฉพาะ โดยแยกจาก prompt ที่ผู้ใช้ป้อน\n",
    "\n",
    "1. เลือก Model\n",
    "2. กำหนด system instruction"
   ]
  },
  {
   "cell_type": "code",
   "execution_count": 3,
   "metadata": {
    "id": "GV09SmP5qN53"
   },
   "outputs": [],
   "source": [
    "from google import genai\n",
    "from google.genai import types\n",
    "\n",
    "client = genai.Client(api_key=\"\")"
   ]
  },
  {
   "cell_type": "markdown",
   "metadata": {
    "id": "3E8B4WRDIChu"
   },
   "source": [
    "\n",
    "### 1.เลือก Model\n",
    "เลือกโมเดลที่ต้องการใช้งานในตัวอย่างนี้ โดยบางโมเดล (เช่น 2.5) จะใช้เวลาตอบนานขึ้นเพราะเป็น \"thinking model\" ดูรายละเอียดเพิ่มเติมได้ที่ [thinking notebook](./Get_started_thinking.ipynb)"
   ]
  },
  {
   "cell_type": "code",
   "execution_count": 4,
   "metadata": {
    "id": "98-doyVvIFrH"
   },
   "outputs": [],
   "source": [
    "MODEL_ID = \"gemini-2.5-flash\" "
   ]
  },
  {
   "cell_type": "markdown",
   "metadata": {
    "id": "qJIMOVI3DS7L"
   },
   "source": [
    "## 2. กำหนด system instruction"
   ]
  },
  {
   "cell_type": "code",
   "execution_count": 5,
   "metadata": {
    "id": "xUINgOFzLnI3"
   },
   "outputs": [],
   "source": [
    "system_prompt = \"You are a cat. Your name is Neko.\"\n",
    "prompt = \"Good morning! How are you?\"\n",
    "\n",
    "response = client.models.generate_content(\n",
    "    model=MODEL_ID,\n",
    "    contents=prompt,\n",
    "    config=types.GenerateContentConfig(\n",
    "        system_instruction=system_prompt\n",
    "    )\n",
    ")\n",
    "\n",
    "print(response.text)"
   ]
  },
  {
   "cell_type": "markdown",
   "metadata": {
    "id": "CUkgp6q9MCif"
   },
   "source": [
    "\n",
    "\n",
    "## 3.ตัวอย่างเพิ่มเติม"
   ]
  },
  {
   "cell_type": "code",
   "execution_count": 6,
   "metadata": {
    "id": "FqWUIw1yDSL2"
   },
   "outputs": [],
   "source": [
    "system_prompt = \"You are a friendly pirate. Speak like one.\"\n",
    "prompt = \"Good morning! How are you?\"\n",
    "\n",
    "response = client.models.generate_content(\n",
    "    model=MODEL_ID,\n",
    "    contents=prompt,\n",
    "    config=types.GenerateContentConfig(\n",
    "        system_instruction=system_prompt\n",
    "    )\n",
    ")\n",
    "\n",
    "print(response.text)"
   ]
  },
  {
   "cell_type": "markdown",
   "metadata": {
    "id": "Nn-6AkGsFc64"
   },
   "source": [
    "## Multi-turn conversations\n",
    "\n",
    "## ตัวอย่างการสนทนาแบบหลายรอบ (Multi-turn)\n",
    "\n",
    "Multi-turn, or chat, conversations also work without any extra arguments once the model is set up.\n",
    "\n",
    "การสนทนาแบบหลายรอบ (multi-turn) สามารถใช้งานได้ทันทีหลังตั้งค่าโมเดล"
   ]
  },
  {
   "cell_type": "code",
   "execution_count": null,
   "metadata": {
    "id": "WxiIfsbA0WdH"
   },
   "outputs": [
    {
     "ename": "NameError",
     "evalue": "name 'client' is not defined",
     "output_type": "error",
     "traceback": [
      "\u001b[31m---------------------------------------------------------------------------\u001b[39m",
      "\u001b[31mNameError\u001b[39m                                 Traceback (most recent call last)",
      "\u001b[36mCell\u001b[39m\u001b[36m \u001b[39m\u001b[32mIn[2]\u001b[39m\u001b[32m, line 1\u001b[39m\n\u001b[32m----> \u001b[39m\u001b[32m1\u001b[39m chat = \u001b[43mclient\u001b[49m.chats.create(\n\u001b[32m      2\u001b[39m     model=MODEL_ID,\n\u001b[32m      3\u001b[39m     config=types.GenerateContentConfig(\n\u001b[32m      4\u001b[39m         system_instruction=system_prompt\n\u001b[32m      5\u001b[39m     )\n\u001b[32m      6\u001b[39m )\n\u001b[32m      8\u001b[39m response = chat.send_message(\u001b[33m\"\u001b[39m\u001b[33mGood day fine chatbot\u001b[39m\u001b[33m\"\u001b[39m)\n\u001b[32m      9\u001b[39m \u001b[38;5;28mprint\u001b[39m(response.text)\n",
      "\u001b[31mNameError\u001b[39m: name 'client' is not defined"
     ]
    }
   ],
   "source": [
    "chat = client.chats.create(\n",
    "    model=MODEL_ID,\n",
    "    config=types.GenerateContentConfig(\n",
    "        system_instruction=system_prompt\n",
    "    )\n",
    ")\n",
    "\n",
    "response = chat.send_message(\"Good day fine chatbot\")\n",
    "print(response.text)\n",
    "\n"
   ]
  },
  {
   "cell_type": "code",
   "execution_count": null,
   "metadata": {
    "id": "beFAm9kvQecS"
   },
   "outputs": [],
   "source": [
    "response = chat.send_message(\"How's your boat doing?\")\n",
    "print(response.text)"
   ]
  },
  {
   "cell_type": "markdown",
   "metadata": {
    "id": "tNjjzKOlMykP"
   },
   "source": [
    "## Code generation\n",
    "\n",
    "## ตัวอย่างการสร้างโค้ด"
   ]
  },
  {
   "cell_type": "markdown",
   "metadata": {
    "id": "O2QS5ovKuXtw"
   },
   "source": [
    "Below is an example of setting the system instruction when generating code.\n",
    "\n",
    "ด้านล่างนี้เป็นตัวอย่างการตั้ง system instruction สำหรับการสร้างโค้ด"
   ]
  },
  {
   "cell_type": "code",
   "execution_count": 9,
   "metadata": {
    "id": "NxPCN_7euVJY"
   },
   "outputs": [],
   "source": [
    "system_prompt = \"\"\"\n",
    "    You are a coding expert that specializes in front end interfaces. When I describe a component\n",
    "    of a website I want to build, please return the HTML with any CSS inline. Do not give an\n",
    "    explanation for this code.\"\n",
    "\"\"\""
   ]
  },
  {
   "cell_type": "code",
   "execution_count": 10,
   "metadata": {
    "id": "S-KQefKiJZCA"
   },
   "outputs": [],
   "source": [
    "prompt = \"A flexbox with a large text logo in rainbow colors aligned left and a list of links aligned right.\""
   ]
  },
  {
   "cell_type": "code",
   "execution_count": 11,
   "metadata": {
    "id": "u79yE57aJasY"
   },
   "outputs": [],
   "source": [
    "response = client.models.generate_content(\n",
    "    model=MODEL_ID,\n",
    "    contents=prompt,\n",
    "    config=types.GenerateContentConfig(\n",
    "        system_instruction=system_prompt\n",
    "    )\n",
    ")\n",
    "\n",
    "print(response.text)"
   ]
  }
 ],
 "metadata": {
  "colab": {
   "name": "System_instructions.ipynb",
   "toc_visible": true
  },
  "kernelspec": {
   "display_name": "Python 3",
   "name": "python3"
  },
  "language_info": {
   "codemirror_mode": {
    "name": "ipython",
    "version": 3
   },
   "file_extension": ".py",
   "mimetype": "text/x-python",
   "name": "python",
   "nbconvert_exporter": "python",
   "pygments_lexer": "ipython3",
   "version": "3.12.1"
  }
 },
 "nbformat": 4,
 "nbformat_minor": 0
}
