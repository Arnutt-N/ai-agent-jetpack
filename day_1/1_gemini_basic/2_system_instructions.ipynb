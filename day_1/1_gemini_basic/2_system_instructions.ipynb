{
 "cells": [
  {
   "cell_type": "markdown",
   "metadata": {
    "id": "b_5PfTJ-8htn"
   },
   "source": [
    "# ตัวอย่างการใช้งาน System instructions กับ Gemini \n",
    "stem instructions คือการกำหนดคำสั่งหรือบริบทให้โมเดล เพื่อควบคุมพฤติกรรมหรือแนวทางการตอบของโมเดล เช่น กำหนดให้โมเดลพูดสุภาพ ตอบสั้น หรือมีบุคลิกเฉพาะ โดยแยกจาก prompt ที่ผู้ใช้ป้อน\n",
    "\n",
    "1. เลือก Model\n",
    "2. กำหนด system instruction"
   ]
  },
  {
   "cell_type": "code",
   "execution_count": null,
   "metadata": {
    "id": "GV09SmP5qN53"
   },
   "outputs": [],
   "source": [
    "from google import genai\n",
    "from google.genai import types\n",
    "\n",
    "client = genai.Client(api_key=\"YOUR_GEMINI_API_KEY\")"
   ]
  },
  {
   "cell_type": "markdown",
   "metadata": {
    "id": "3E8B4WRDIChu"
   },
   "source": [
    "\n",
    "### 1.เลือก Model\n",
    "เลือกโมเดลที่ต้องการใช้งานในตัวอย่างนี้ โดยบางโมเดล (เช่น 2.5) จะใช้เวลาตอบนานขึ้นเพราะเป็น \"thinking model\" ดูรายละเอียดเพิ่มเติมได้ที่ [thinking notebook](./Get_started_thinking.ipynb)"
   ]
  },
  {
   "cell_type": "code",
   "execution_count": 4,
   "metadata": {
    "id": "98-doyVvIFrH"
   },
   "outputs": [],
   "source": [
    "MODEL_ID = \"gemini-2.5-flash\" "
   ]
  },
  {
   "cell_type": "markdown",
   "metadata": {
    "id": "qJIMOVI3DS7L"
   },
   "source": [
    "## 2. กำหนด system instruction"
   ]
  },
  {
   "cell_type": "code",
   "execution_count": 5,
   "metadata": {
    "id": "xUINgOFzLnI3"
   },
   "outputs": [],
   "source": [
    "system_prompt = \"You are a cat. Your name is Neko.\"\n",
    "prompt = \"Good morning! How are you?\"\n",
    "\n",
    "response = client.models.generate_content(\n",
    "    model=MODEL_ID,\n",
    "    contents=prompt,\n",
    "    config=types.GenerateContentConfig(\n",
    "        system_instruction=system_prompt\n",
    "    )\n",
    ")\n",
    "\n",
    "print(response.text)"
   ]
  },
  {
   "cell_type": "markdown",
   "metadata": {
    "id": "CUkgp6q9MCif"
   },
   "source": [
    "\n",
    "\n",
    "## 3.ตัวอย่างเพิ่มเติม"
   ]
  },
  {
   "cell_type": "code",
   "execution_count": 6,
   "metadata": {
    "id": "FqWUIw1yDSL2"
   },
   "outputs": [],
   "source": [
    "system_prompt = \"You are a friendly pirate. Speak like one.\"\n",
    "prompt = \"Good morning! How are you?\"\n",
    "\n",
    "response = client.models.generate_content(\n",
    "    model=MODEL_ID,\n",
    "    contents=prompt,\n",
    "    config=types.GenerateContentConfig(\n",
    "        system_instruction=system_prompt\n",
    "    )\n",
    ")\n",
    "\n",
    "print(response.text)"
   ]
  },
  {
   "cell_type": "markdown",
   "metadata": {},
   "source": [
    "## Have a chat\n",
    "\n",
    "The Gemini API enables you to have freeform conversations across multiple turns.\n",
    "\n",
    "The [ChatSession](https://ai.google.dev/api/python/google/generativeai/ChatSession) class will store the conversation history for multi-turn interactions."
   ]
  },
  {
   "cell_type": "code",
   "execution_count": null,
   "metadata": {},
   "outputs": [],
   "source": [
    "chat = client.chats.create(model=MODEL_ID)"
   ]
  },
  {
   "cell_type": "code",
   "execution_count": null,
   "metadata": {},
   "outputs": [],
   "source": [
    "messages = chat.get_history()\n",
    "for message in messages:\n",
    "  print(f\"{message.role}: {message.parts[0].text}\")"
   ]
  },
  {
   "cell_type": "code",
   "execution_count": null,
   "metadata": {},
   "outputs": [],
   "source": [
    "response = chat.send_message(\"Okay, how about a more detailed explanation to a high schooler?\")\n",
    "\n",
    "print(response.text)"
   ]
  }
 ],
 "metadata": {
  "colab": {
   "name": "System_instructions.ipynb",
   "toc_visible": true
  },
  "kernelspec": {
   "display_name": "Python 3",
   "name": "python3"
  },
  "language_info": {
   "codemirror_mode": {
    "name": "ipython",
    "version": 3
   },
   "file_extension": ".py",
   "mimetype": "text/x-python",
   "name": "python",
   "nbconvert_exporter": "python",
   "pygments_lexer": "ipython3",
   "version": "3.12.1"
  }
 },
 "nbformat": 4,
 "nbformat_minor": 0
}
