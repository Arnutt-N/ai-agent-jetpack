{
 "cells": [
  {
   "cell_type": "markdown",
   "id": "d274c19c",
   "metadata": {},
   "source": [
    "# Gemini Document Understanding\n",
    "\n",
    "<img src=\"https://storage.googleapis.com/ai-agent-jetpack/example-pdf.png\" width=\"300px\"></img>"
   ]
  },
  {
   "cell_type": "code",
   "execution_count": null,
   "id": "182a7a51",
   "metadata": {},
   "outputs": [],
   "source": [
    "from google import genai\n",
    "from google.genai import types\n",
    "import httpx\n",
    "import os\n",
    "from dotenv import load_dotenv\n",
    "\n",
    "load_dotenv()\n",
    "\n",
    "\n",
    "client = genai.Client(api_key=os.environ[\"GEMINI_API_KEY\"])\n",
    "\n",
    "doc_url = \"https://secdocumentstorage.blob.core.windows.net/fundfactsheet/M0370_2563.pdf\"  \n",
    "\n",
    "# Retrieve and encode the PDF byte\n",
    "doc_data = httpx.get(doc_url).content\n",
    "\n",
    "prompt = \"Summarize this document in Thai\"\n",
    "response = client.models.generate_content(\n",
    "  model=\"gemini-1.5-flash\",\n",
    "  contents=[\n",
    "      types.Part.from_bytes(\n",
    "        data=doc_data,\n",
    "        mime_type='application/pdf',\n",
    "      ),\n",
    "      prompt])\n",
    "print(response.text)"
   ]
  }
 ],
 "metadata": {
  "kernelspec": {
   "display_name": ".env",
   "language": "python",
   "name": "python3"
  },
  "language_info": {
   "codemirror_mode": {
    "name": "ipython",
    "version": 3
   },
   "file_extension": ".py",
   "mimetype": "text/x-python",
   "name": "python",
   "nbconvert_exporter": "python",
   "pygments_lexer": "ipython3",
   "version": "3.12.1"
  }
 },
 "nbformat": 4,
 "nbformat_minor": 5
}
