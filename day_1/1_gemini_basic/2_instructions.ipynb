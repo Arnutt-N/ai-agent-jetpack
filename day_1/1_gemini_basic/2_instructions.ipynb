{
 "cells": [
  {
   "cell_type": "markdown",
   "metadata": {
    "id": "b_5PfTJ-8htn"
   },
   "source": [
    "# การใช้งาน Instructions กับ Gemini \n",
    "\n",
    "stem instructions คือการกำหนดคำสั่งหรือบริบทให้โมเดล เพื่อควบคุมพฤติกรรมหรือแนวทางการตอบของโมเดล เช่น กำหนดให้โมเดลพูดสุภาพ ตอบสั้น หรือมีบุคลิกเฉพาะ โดยแยกจาก prompt ที่ผู้ใช้ป้อน\n",
    "\n",
    "<img src=\"https://storage.googleapis.com/ai-agent-jetpack/instruction-prompt.png\" width=\"500px\"></img>\n",
    "\n",
    "-------\n",
    "\n",
    "1. เลือก Model\n",
    "2. กำหนด system instruction"
   ]
  },
  {
   "cell_type": "markdown",
   "metadata": {},
   "source": [
    "## 1. เลือก Model"
   ]
  },
  {
   "cell_type": "code",
   "execution_count": null,
   "metadata": {
    "id": "GV09SmP5qN53"
   },
   "outputs": [],
   "source": [
    "import os\n",
    "from dotenv import load_dotenv\n",
    "from google import genai\n",
    "from google.genai.types import GenerateContentConfig\n",
    "\n",
    "load_dotenv(\"../.env\")\n",
    "\n",
    "client = genai.Client(api_key=os.getenv(\"GEMINI_API_KEY\"))\n",
    "MODEL_ID = \"gemini-2.5-flash\" "
   ]
  },
  {
   "cell_type": "markdown",
   "metadata": {
    "id": "qJIMOVI3DS7L"
   },
   "source": [
    "## 2. กำหนด Instruction - AI Agent น้องเนโกะ\n",
    "\n",
    "✅ เทคนิค: องค์ประกอบหลัก 3 อย่าง\n",
    "- Task - สิ่งที่เราต้องการให้ทำ\n",
    "- Context - บริบท หรือ เนื้อหาเพิ่มเติมที่จะช่วยให้ AI ทำงานได้ดีขึ้น\n",
    "- Output - ผลลัพธ์ที่เราต้องการให้ AI ทำ\n",
    "\n",
    "---\n",
    "<img src=\"https://storage.googleapis.com/ai-agent-jetpack/neko-cat.jpeg\" width=\"300px\">\n",
    "\n",
    "✅ ตัวอย่างเทคนิค: องค์ประกอบหลัก 3 อย่าง (สำหรับผู้ช่วยร้านอาหาร “เนโกะ”)\n",
    "✅ Task\n",
    "- รับบทเป็นผู้ช่วยร้านอาหารชื่อ “เนโกะ” 🐱 คอยให้ข้อมูลเมนูอาหาร และช่วยลูกค้าจองโต๊ะอย่างสุภาพ น่ารัก\n",
    "\n",
    "✅ Context\n",
    "- คุณเป็น AI ผู้ช่วยของร้านอาหารไทยชื่อ \"เนโกะ\"\n",
    "- ลูกค้าอาจถามเกี่ยวกับเมนูอาหาร หรือต้องการจองโต๊ะ\n",
    "- ข้อมูลเมนูและคิวโต๊ะจะดึงจากระบบ หากไม่พบข้อมูล ให้ตอบอย่างสุภาพว่าไม่ทราบ\n",
    "- คุณพูดจาน่ารัก สุภาพ และลงท้ายประโยคว่า \"เมี๊ยว~\" เสมอ\n",
    "\n",
    "✅ Output\n",
    "- หากมีข้อมูลเมนู: ตอบชื่อเมนู พร้อมอธิบายสั้น ๆ ด้วยน้ำเสียงน่ารัก\n",
    "- หากไม่มีข้อมูลเมนู: ตอบอย่างสุภาพว่าไม่ทราบเมี๊ยว~\n",
    "- หากลูกค้าขอจองโต๊ะ: แจ้งเวลาที่ว่างได้ตามข้อมูลระบบ\n",
    "- หากไม่รู้คิวว่าง: ตอบอย่างสุภาพว่าไม่ทราบเมี๊ยว"
   ]
  },
  {
   "cell_type": "code",
   "execution_count": null,
   "metadata": {
    "id": "xUINgOFzLnI3"
   },
   "outputs": [],
   "source": [
    "system_prompt = \"\"\"\n",
    "คุณคือผู้ช่วยร้านอาหารชื่อ 'เนโกะ' 🐱\n",
    "คุณพูดจาน่ารัก สุภาพ ใช้คำลงท้ายว่า 'เมี๊ยว~'\n",
    "หน้าที่ของคุณคือช่วยลูกค้าร้านหาร\n",
    "เมื่อลูกค้าถามถึงเมนู ให้ดููข้อมูลจากระบบเพื่อตอบ ถ้าไม่รู้ ให้ตอบอย่างสุภาพว่าไม่รู้\n",
    "เมื่อลูกค้าต้องการของคิว เช็กคิวว่างจากระบบเพื่อจองโต๊ะให้ลูกค้า ถ้าไม่รู้ว่ามีคิวว่าเวลาไหนบ้าง ให้ตอบอย่างสุภาพว่าไม่รู้\n",
    "\"\"\"\n",
    "\n",
    "\n",
    "chat = client.chats.create(\n",
    "    model=MODEL_ID,\n",
    "    config={\n",
    "        # \"system_instruction\": system_prompt,\n",
    "    }\n",
    ")\n"
   ]
  },
  {
   "cell_type": "code",
   "execution_count": null,
   "metadata": {},
   "outputs": [],
   "source": [
    "response = chat.send_message(\"สวัสดีค่ะ ที่ร้านมีอะไรบ้างค่ะ อยากกินอาหารญี่ปุ่น\")\n",
    "print(response.text)"
   ]
  },
  {
   "cell_type": "code",
   "execution_count": null,
   "metadata": {},
   "outputs": [],
   "source": [
    "response = chat.send_message(\"จะจอง วันที่ 19 July ช่วยเช็คให้หน่อยได้ไหม มีคิวว่ากี่โมงบ้างค่ะ\")\n",
    "print(response.text)"
   ]
  }
 ],
 "metadata": {
  "colab": {
   "name": "System_instructions.ipynb",
   "toc_visible": true
  },
  "kernelspec": {
   "display_name": "Python 3",
   "name": "python3"
  },
  "language_info": {
   "codemirror_mode": {
    "name": "ipython",
    "version": 3
   },
   "file_extension": ".py",
   "mimetype": "text/x-python",
   "name": "python",
   "nbconvert_exporter": "python",
   "pygments_lexer": "ipython3",
   "version": "3.12.1"
  }
 },
 "nbformat": 4,
 "nbformat_minor": 0
}
