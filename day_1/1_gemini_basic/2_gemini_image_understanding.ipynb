{
 "cells": [
  {
   "cell_type": "markdown",
   "id": "a1e54c83",
   "metadata": {},
   "source": [
    "# Gemini Image Understanding\n",
    "\n",
    "Link: https://ai.google.dev/gemini-api/docs/vision?lang=python \n",
    "\n",
    "<img src=\"https://storage.googleapis.com/ai-agent-jetpack/example-product.png\" width=\"100px;\"/>"
   ]
  },
  {
   "cell_type": "code",
   "execution_count": 2,
   "id": "7272ce20",
   "metadata": {},
   "outputs": [
    {
     "name": "stdout",
     "output_type": "stream",
     "text": [
      "--2025-07-09 18:40:07--  https://storage.googleapis.com/ai-agent-jetpack/example-product.png\n",
      "Resolving storage.googleapis.com (storage.googleapis.com)... 74.125.68.207, 142.250.4.207, 74.125.24.207, ...\n",
      "Connecting to storage.googleapis.com (storage.googleapis.com)|74.125.68.207|:443... connected.\n",
      "HTTP request sent, awaiting response... 200 OK\n",
      "Length: 352475 (344K) [image/png]\n",
      "Saving to: ‘example-product.png’\n",
      "\n",
      "example-product.png 100%[===================>] 344.21K  --.-KB/s    in 0.009s  \n",
      "\n",
      "2025-07-09 18:40:07 (37.7 MB/s) - ‘example-product.png’ saved [352475/352475]\n",
      "\n"
     ]
    }
   ],
   "source": [
    "!wget https://storage.googleapis.com/ai-agent-jetpack/example-product.png"
   ]
  },
  {
   "cell_type": "code",
   "execution_count": null,
   "id": "fb8cb95f",
   "metadata": {},
   "outputs": [],
   "source": [
    "import os\n",
    "import PIL.Image\n",
    "from google import genai\n",
    "from dotenv import load_dotenv\n",
    "\n",
    "load_dotenv()\n",
    "\n",
    "client = genai.Client(api_key=os.environ[\"GEMINI_API_KEY\"])\n",
    "pil_image = PIL.Image.open(\"example-product.png\")\n",
    "response = client.models.generate_content(\n",
    "    model=\"gemini-2.0-flash-001\",\n",
    "    contents=[\n",
    "        \"What is shown in this image in Thai?\",\n",
    "        pil_image,\n",
    "    ],\n",
    ")\n",
    "print(response.text)"
   ]
  }
 ],
 "metadata": {
  "kernelspec": {
   "display_name": "Python 3",
   "language": "python",
   "name": "python3"
  },
  "language_info": {
   "codemirror_mode": {
    "name": "ipython",
    "version": 3
   },
   "file_extension": ".py",
   "mimetype": "text/x-python",
   "name": "python",
   "nbconvert_exporter": "python",
   "pygments_lexer": "ipython3",
   "version": "3.12.1"
  }
 },
 "nbformat": 4,
 "nbformat_minor": 5
}
