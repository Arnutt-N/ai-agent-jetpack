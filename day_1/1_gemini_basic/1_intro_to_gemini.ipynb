{
 "cells": [
  {
   "cell_type": "markdown",
   "id": "8ce7737f",
   "metadata": {},
   "source": [
    "# ตัวอย่างการใช้งาน Gemini in Python อย่างง่าย\n",
    "\n",
    "Notebook นี้สาธิตวิธีการใช้งาน Gemini API เพื่อ:\n",
    "- สร้างข้อความจาก prompt\n",
    "- วิเคราะห์ภาพ (Image Understanding)\n",
    "- อ่านและสรุปไฟล์ PDF (PDF Understanding)\n",
    "----\n",
    "\n",
    "1. ติดตั้งไลบรารี `google-genai` ด้วยคำสั่ง pip\n",
    "2. API Key สำหรับการใช้งาน Gemini API\n",
    "3. Gemini Generate text\n",
    "4. Gemini image understanging\n",
    "5. Gemini pdf understanging\n"
   ]
  },
  {
   "cell_type": "markdown",
   "id": "c61c432c",
   "metadata": {},
   "source": [
    "## 1. ติดตั้งไลบรารี `google-genai` ด้วยคำสั่ง pip"
   ]
  },
  {
   "cell_type": "code",
   "execution_count": 1,
   "id": "c7e003fd",
   "metadata": {},
   "outputs": [
    {
     "name": "stdout",
     "output_type": "stream",
     "text": [
      "Collecting google-genai\n",
      "  Downloading google_genai-1.25.0-py3-none-any.whl.metadata (41 kB)\n",
      "Requirement already satisfied: anyio<5.0.0,>=4.8.0 in /home/codespace/.local/lib/python3.12/site-packages (from google-genai) (4.9.0)\n",
      "Collecting google-auth<3.0.0,>=2.14.1 (from google-genai)\n",
      "  Downloading google_auth-2.40.3-py2.py3-none-any.whl.metadata (6.2 kB)\n",
      "Requirement already satisfied: httpx<1.0.0,>=0.28.1 in /home/codespace/.local/lib/python3.12/site-packages (from google-genai) (0.28.1)\n",
      "Collecting pydantic<3.0.0,>=2.0.0 (from google-genai)\n",
      "  Downloading pydantic-2.11.7-py3-none-any.whl.metadata (67 kB)\n",
      "Requirement already satisfied: requests<3.0.0,>=2.28.1 in /home/codespace/.local/lib/python3.12/site-packages (from google-genai) (2.32.3)\n",
      "Collecting tenacity<9.0.0,>=8.2.3 (from google-genai)\n",
      "  Downloading tenacity-8.5.0-py3-none-any.whl.metadata (1.2 kB)\n",
      "Collecting websockets<15.1.0,>=13.0.0 (from google-genai)\n",
      "  Downloading websockets-15.0.1-cp312-cp312-manylinux_2_5_x86_64.manylinux1_x86_64.manylinux_2_17_x86_64.manylinux2014_x86_64.whl.metadata (6.8 kB)\n",
      "Requirement already satisfied: typing-extensions<5.0.0,>=4.11.0 in /home/codespace/.local/lib/python3.12/site-packages (from google-genai) (4.13.2)\n",
      "Requirement already satisfied: idna>=2.8 in /home/codespace/.local/lib/python3.12/site-packages (from anyio<5.0.0,>=4.8.0->google-genai) (3.10)\n",
      "Requirement already satisfied: sniffio>=1.1 in /home/codespace/.local/lib/python3.12/site-packages (from anyio<5.0.0,>=4.8.0->google-genai) (1.3.1)\n",
      "Collecting cachetools<6.0,>=2.0.0 (from google-auth<3.0.0,>=2.14.1->google-genai)\n",
      "  Downloading cachetools-5.5.2-py3-none-any.whl.metadata (5.4 kB)\n",
      "Collecting pyasn1-modules>=0.2.1 (from google-auth<3.0.0,>=2.14.1->google-genai)\n",
      "  Downloading pyasn1_modules-0.4.2-py3-none-any.whl.metadata (3.5 kB)\n",
      "Collecting rsa<5,>=3.1.4 (from google-auth<3.0.0,>=2.14.1->google-genai)\n",
      "  Downloading rsa-4.9.1-py3-none-any.whl.metadata (5.6 kB)\n",
      "Requirement already satisfied: certifi in /home/codespace/.local/lib/python3.12/site-packages (from httpx<1.0.0,>=0.28.1->google-genai) (2025.4.26)\n",
      "Requirement already satisfied: httpcore==1.* in /home/codespace/.local/lib/python3.12/site-packages (from httpx<1.0.0,>=0.28.1->google-genai) (1.0.9)\n",
      "Requirement already satisfied: h11>=0.16 in /home/codespace/.local/lib/python3.12/site-packages (from httpcore==1.*->httpx<1.0.0,>=0.28.1->google-genai) (0.16.0)\n",
      "Collecting annotated-types>=0.6.0 (from pydantic<3.0.0,>=2.0.0->google-genai)\n",
      "  Downloading annotated_types-0.7.0-py3-none-any.whl.metadata (15 kB)\n",
      "Collecting pydantic-core==2.33.2 (from pydantic<3.0.0,>=2.0.0->google-genai)\n",
      "  Downloading pydantic_core-2.33.2-cp312-cp312-manylinux_2_17_x86_64.manylinux2014_x86_64.whl.metadata (6.8 kB)\n",
      "Collecting typing-inspection>=0.4.0 (from pydantic<3.0.0,>=2.0.0->google-genai)\n",
      "  Downloading typing_inspection-0.4.1-py3-none-any.whl.metadata (2.6 kB)\n",
      "Requirement already satisfied: charset-normalizer<4,>=2 in /home/codespace/.local/lib/python3.12/site-packages (from requests<3.0.0,>=2.28.1->google-genai) (3.4.2)\n",
      "Requirement already satisfied: urllib3<3,>=1.21.1 in /home/codespace/.local/lib/python3.12/site-packages (from requests<3.0.0,>=2.28.1->google-genai) (2.4.0)\n",
      "Collecting pyasn1>=0.1.3 (from rsa<5,>=3.1.4->google-auth<3.0.0,>=2.14.1->google-genai)\n",
      "  Downloading pyasn1-0.6.1-py3-none-any.whl.metadata (8.4 kB)\n",
      "Downloading google_genai-1.25.0-py3-none-any.whl (226 kB)\n",
      "Downloading google_auth-2.40.3-py2.py3-none-any.whl (216 kB)\n",
      "Downloading cachetools-5.5.2-py3-none-any.whl (10 kB)\n",
      "Downloading pydantic-2.11.7-py3-none-any.whl (444 kB)\n",
      "Downloading pydantic_core-2.33.2-cp312-cp312-manylinux_2_17_x86_64.manylinux2014_x86_64.whl (2.0 MB)\n",
      "\u001b[2K   \u001b[90m━━━━━━━━━━━━━━━━━━━━━━━━━━━━━━━━━━━━━━━━\u001b[0m \u001b[32m2.0/2.0 MB\u001b[0m \u001b[31m40.4 MB/s\u001b[0m eta \u001b[36m0:00:00\u001b[0m\n",
      "\u001b[?25hDownloading rsa-4.9.1-py3-none-any.whl (34 kB)\n",
      "Downloading tenacity-8.5.0-py3-none-any.whl (28 kB)\n",
      "Downloading websockets-15.0.1-cp312-cp312-manylinux_2_5_x86_64.manylinux1_x86_64.manylinux_2_17_x86_64.manylinux2014_x86_64.whl (182 kB)\n",
      "Downloading annotated_types-0.7.0-py3-none-any.whl (13 kB)\n",
      "Downloading pyasn1-0.6.1-py3-none-any.whl (83 kB)\n",
      "Downloading pyasn1_modules-0.4.2-py3-none-any.whl (181 kB)\n",
      "Downloading typing_inspection-0.4.1-py3-none-any.whl (14 kB)\n",
      "Installing collected packages: websockets, typing-inspection, tenacity, pydantic-core, pyasn1, cachetools, annotated-types, rsa, pydantic, pyasn1-modules, google-auth, google-genai\n",
      "\u001b[2K   \u001b[90m━━━━━━━━━━━━━━━━━━━━━━━━━━━━━━━━━━━━━━━━\u001b[0m \u001b[32m12/12\u001b[0m [google-genai][0m [google-genai]s]\n",
      "\u001b[1A\u001b[2KSuccessfully installed annotated-types-0.7.0 cachetools-5.5.2 google-auth-2.40.3 google-genai-1.25.0 pyasn1-0.6.1 pyasn1-modules-0.4.2 pydantic-2.11.7 pydantic-core-2.33.2 rsa-4.9.1 tenacity-8.5.0 typing-inspection-0.4.1 websockets-15.0.1\n"
     ]
    }
   ],
   "source": [
    "# Installation\n",
    "!pip install google-genai"
   ]
  },
  {
   "cell_type": "markdown",
   "id": "43407f0c",
   "metadata": {},
   "source": [
    "## 2. API Key สำหรับการใช้งาน Gemini API\n",
    "\n",
    "ก่อนจะเริ่มต้นใช้งาน Gemini API ผ่าน Python เราจำเป็นต้องมี **API Key** ซึ่งสามารถสร้างได้จาก Google AI Studio\n",
    "\n",
    "วิธีการขอ API Key\n",
    "\n",
    "1. เข้าเว็บไซต์ [Google AI Studio](https://aistudio.google.com/app/apikey)\n",
    "2. **Sign in** ด้วยบัญชี Google ของคุณ\n",
    "3. คลิกปุ่ม `Create API Key`\n",
    "4. ตั้งชื่อ Key และเลือก Project ที่ต้องการ (หรือสร้าง Project ใหม่)\n",
    "5. กด \"Create\" แล้ว **คัดลอก API Key** ไว้ใช้งาน\n",
    "\n",
    "> 🔑 แนะนำให้เก็บ API Key ไว้ใน `.env` file หรือ Environment Variables เพื่อความปลอดภัย"
   ]
  },
  {
   "cell_type": "code",
   "execution_count": null,
   "id": "aa7b06d1",
   "metadata": {},
   "outputs": [],
   "source": [
    "import os\n",
    "from dotenv import load_dotenv\n",
    "from google import genai\n",
    "\n",
    "load_dotenv(\"../.env\")\n",
    "\n",
    "client = genai.Client(api_key=os.getenv(\"GEMINI_API_KEY\"))"
   ]
  },
  {
   "cell_type": "markdown",
   "id": "9b2a2c1b",
   "metadata": {},
   "source": [
    "## 3. Gemini: Generate Text\n",
    "\n",
    "Gemini API รองรับการสร้างข้อความจาก prompt ได้อย่างชาญฉลาด  \n",
    "เหมาะกับการใช้ในงาน เช่น การเขียนบทความ แนะนำสินค้า สรุปข้อมูล หรือแม้แต่แต่งเรื่อง"
   ]
  },
  {
   "cell_type": "code",
   "execution_count": null,
   "id": "367fe463",
   "metadata": {},
   "outputs": [],
   "source": [
    "# กำหนดโมเดล Gemini ที่จะใช้ (เวอร์ชันล่าสุดและเร็ว)\n",
    "MODEL_ID = \"gemini-2.5-flash\"\n",
    "\n",
    "# เรียกใช้ Gemini เพื่อให้แนะนำหนังสือ AI สำหรับผู้เริ่มต้น\n",
    "response = client.models.generate_content(\n",
    "    model=MODEL_ID,  # ระบุโมเดลที่ใช้\n",
    "    contents='แนะนำหนังสือ AI สำหรับผู้เริ่มต้น'  # ข้อความที่ใช้ถาม AI\n",
    ")\n",
    "\n",
    "# แสดงผลลัพธ์ที่ได้จากโมเดล\n",
    "print(response.text)"
   ]
  },
  {
   "cell_type": "markdown",
   "id": "99680c41",
   "metadata": {},
   "source": [
    "## 4. Gemini Image Understanding\n",
    "\n",
    "Google Gemini API รองรับการประมวลผลภาพร่วมกับข้อความ (multimodal)  \n",
    "ทำให้คุณสามารถส่ง **รูปภาพ + คำถาม** เพื่อให้โมเดลวิเคราะห์และให้คำตอบได้ เช่น  \n",
    "การตรวจสอบว่าสินค้าในภาพคืออะไร, วิเคราะห์ป้ายราคา, หรือเข้าใจบริบทของภาพในเชิงลึก\n",
    "\n",
    "---\n",
    "ตัวอย่างภาพ\n",
    "\n",
    "<img src=\"https://storage.googleapis.com/ai-agent-jetpack/example-product.png\" width=\"100px;\"/>\n"
   ]
  },
  {
   "cell_type": "code",
   "execution_count": null,
   "id": "7f102974",
   "metadata": {},
   "outputs": [],
   "source": [
    "!wget https://storage.googleapis.com/ai-agent-jetpack/example-product.png"
   ]
  },
  {
   "cell_type": "code",
   "execution_count": null,
   "id": "81ce0267",
   "metadata": {},
   "outputs": [],
   "source": [
    "import PIL.Image  # ใช้จากไลบรารี Pillow สำหรับเปิดไฟล์ภาพ\n",
    "\n",
    "# โหลดภาพจากไฟล์ในเครื่อง\n",
    "image = PIL.Image.open(\"example-product.png\")\n",
    "\n",
    "# เรียก Gemini API โดยใช้โมเดลที่ตั้งไว้ เช่น gemini-2.0-flash\n",
    "response = client.models.generate_content(\n",
    "    model=MODEL_ID,                  # ใช้โมเดล Gemini ที่กำหนดไว้ก่อนหน้า\n",
    "    contents=[\n",
    "        \"ภาพนี้คืออะไร?\",           # คำสั่ง/คำถามที่ส่งเข้าไป\n",
    "        image,                       # ภาพที่ต้องการให้ AI วิเคราะห์\n",
    "    ],\n",
    ")\n",
    "\n",
    "# แสดงผลลัพธ์ที่ AI ตอบกลับมา\n",
    "print(response.text)"
   ]
  },
  {
   "cell_type": "markdown",
   "id": "ed2c9170",
   "metadata": {},
   "source": [
    "## 5. Gemini Document Understanding\n",
    "\n",
    "Gemini รองรับการวิเคราะห์เอกสาร PDF โดยใช้โมเดลเวอร์ชัน `gemini-1.5-pro` หรือสูงกว่า  \n",
    "สามารถใช้ในการสรุปเนื้อหา ค้นหาข้อมูลในเอกสาร หรือถามตอบจากไฟล์ PDF โดยตรง\n",
    "\n",
    "---\n",
    "\n",
    "ตัวอย่างเอกสาร PDF\n",
    "\n",
    "<img src=\"https://storage.googleapis.com/ai-agent-jetpack/example-pdf.png\" width=\"300px\"></img>\n"
   ]
  },
  {
   "cell_type": "code",
   "execution_count": null,
   "id": "69b4e69e",
   "metadata": {},
   "outputs": [],
   "source": [
    "import httpx  # ใช้สำหรับส่ง HTTP request\n",
    "from google.genai import types  # ใช้สร้างข้อมูลประเภท Part (เช่น PDF, image)\n",
    "\n",
    "# ลิงก์ไปยัง PDF เอกสาร Fund Factsheet\n",
    "doc_url = \"https://secdocumentstorage.blob.core.windows.net/fundfactsheet/M0370_2563.pdf\"\n",
    "\n",
    "# โหลดเอกสาร PDF จาก URL เป็น binary\n",
    "doc_data = httpx.get(doc_url).content\n",
    "\n",
    "# คำถามที่ส่งไปให้ Gemini วิเคราะห์\n",
    "prompt = \"สรุปเอกสารนี้ให้หน่อย\"\n",
    "\n",
    "# เรียกใช้ Gemini API โดยแนบทั้ง PDF และ prompt\n",
    "response = client.models.generate_content(\n",
    "  model=MODEL_ID,   # เช่น gemini-2.0-flash\n",
    "  contents=[\n",
    "      types.Part.from_bytes(\n",
    "        data=doc_data,               # ข้อมูล binary ของ PDF\n",
    "        mime_type='application/pdf' # MIME type บอกว่าเป็น PDF\n",
    "      ),\n",
    "      prompt                         # สั่งให้สรุปเอกสาร\n",
    "  ]\n",
    ")\n",
    "\n",
    "# แสดงผลลัพธ์จาก Gemini\n",
    "print(response.text)"
   ]
  }
 ],
 "metadata": {
  "kernelspec": {
   "display_name": "Python 3",
   "language": "python",
   "name": "python3"
  },
  "language_info": {
   "codemirror_mode": {
    "name": "ipython",
    "version": 3
   },
   "file_extension": ".py",
   "mimetype": "text/x-python",
   "name": "python",
   "nbconvert_exporter": "python",
   "pygments_lexer": "ipython3",
   "version": "3.12.1"
  }
 },
 "nbformat": 4,
 "nbformat_minor": 5
}
