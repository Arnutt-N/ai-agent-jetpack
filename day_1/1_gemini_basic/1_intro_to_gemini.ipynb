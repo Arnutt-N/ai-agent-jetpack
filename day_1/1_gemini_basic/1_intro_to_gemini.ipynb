{
 "cells": [
  {
   "cell_type": "markdown",
   "id": "8ce7737f",
   "metadata": {},
   "source": [
    "# ตัวอย่างการใช้งาน Gemini in Python อย่างง่าย\n",
    "\n",
    "Notebook นี้สาธิตวิธีการใช้งาน Gemini API เพื่อ:\n",
    "- สร้างข้อความจาก prompt\n",
    "- วิเคราะห์ภาพ (Image Understanding)\n",
    "- อ่านและสรุปไฟล์ PDF (PDF Understanding)\n",
    "----\n",
    "\n",
    "1. ติดตั้งไลบรารี `google-genai` ด้วยคำสั่ง pip\n",
    "2. API Key สำหรับการใช้งาน Gemini API\n",
    "3. Gemini Generate text\n",
    "4. Gemini image understanging\n",
    "5. Gemini pdf understanging\n"
   ]
  },
  {
   "cell_type": "markdown",
   "id": "c61c432c",
   "metadata": {},
   "source": [
    "## 1. ติดตั้งไลบรารี `google-genai` ด้วยคำสั่ง pip"
   ]
  },
  {
   "cell_type": "code",
   "execution_count": null,
   "id": "c7e003fd",
   "metadata": {},
   "outputs": [],
   "source": [
    "# Installation\n",
    "!pip install google-genai"
   ]
  },
  {
   "cell_type": "markdown",
   "id": "43407f0c",
   "metadata": {},
   "source": [
    "## 2. API Key สำหรับการใช้งาน Gemini API\n",
    "\n",
    "ก่อนจะเริ่มต้นใช้งาน Gemini API ผ่าน Python เราจำเป็นต้องมี **API Key** ซึ่งสามารถสร้างได้จาก Google AI Studio\n",
    "\n",
    "วิธีการขอ API Key\n",
    "\n",
    "1. เข้าเว็บไซต์ [Google AI Studio](https://aistudio.google.com/app/apikey)\n",
    "2. **Sign in** ด้วยบัญชี Google ของคุณ\n",
    "3. คลิกปุ่ม `Create API Key`\n",
    "4. ตั้งชื่อ Key และเลือก Project ที่ต้องการ (หรือสร้าง Project ใหม่)\n",
    "5. กด \"Create\" แล้ว **คัดลอก API Key** ไว้ใช้งาน\n",
    "\n",
    "> 🔑 แนะนำให้เก็บ API Key ไว้ใน `.env` file หรือ Environment Variables เพื่อความปลอดภัย"
   ]
  },
  {
   "cell_type": "code",
   "execution_count": null,
   "id": "aa7b06d1",
   "metadata": {},
   "outputs": [],
   "source": [
    "import os\n",
    "from dotenv import load_dotenv\n",
    "from google import genai\n",
    "\n",
    "load_dotenv(\"../.env\")\n",
    "\n",
    "client = genai.Client(api_key=os.getenv(\"GEMINI_API_KEY\"))"
   ]
  },
  {
   "cell_type": "markdown",
   "id": "9b2a2c1b",
   "metadata": {},
   "source": [
    "## 3. Gemini: Generate Text\n",
    "\n",
    "Gemini API รองรับการสร้างข้อความจาก prompt ได้อย่างชาญฉลาด  \n",
    "เหมาะกับการใช้ในงาน เช่น การเขียนบทความ แนะนำสินค้า สรุปข้อมูล หรือแม้แต่แต่งเรื่อง"
   ]
  },
  {
   "cell_type": "code",
   "execution_count": null,
   "id": "367fe463",
   "metadata": {},
   "outputs": [],
   "source": [
    "MODEL_ID=\"gemini-2.5-flash\"\n",
    "response = client.models.generate_content(\n",
    "    model=MODEL_ID,\n",
    "    contents='แนะนำหนังสือ AI สำหรับผู้เริ่มต้น'\n",
    ")\n",
    "print(response.text)"
   ]
  },
  {
   "cell_type": "markdown",
   "id": "99680c41",
   "metadata": {},
   "source": [
    "## 4. Gemini Image Understanding\n",
    "\n",
    "Google Gemini API รองรับการประมวลผลภาพร่วมกับข้อความ (multimodal)  \n",
    "ทำให้คุณสามารถส่ง **รูปภาพ + คำถาม** เพื่อให้โมเดลวิเคราะห์และให้คำตอบได้ เช่น  \n",
    "การตรวจสอบว่าสินค้าในภาพคืออะไร, วิเคราะห์ป้ายราคา, หรือเข้าใจบริบทของภาพในเชิงลึก\n",
    "\n",
    "---\n",
    "ตัวอย่างภาพ\n",
    "\n",
    "<img src=\"https://storage.googleapis.com/ai-agent-jetpack/example-product.png\" width=\"100px;\"/>\n"
   ]
  },
  {
   "cell_type": "code",
   "execution_count": null,
   "id": "7f102974",
   "metadata": {},
   "outputs": [],
   "source": [
    "!wget https://storage.googleapis.com/ai-agent-jetpack/example-product.png"
   ]
  },
  {
   "cell_type": "code",
   "execution_count": null,
   "id": "81ce0267",
   "metadata": {},
   "outputs": [],
   "source": [
    "import PIL.Image\n",
    "image = PIL.Image.open(\"example-product.png\")\n",
    "response = client.models.generate_content(\n",
    "    model=MODEL_ID,\n",
    "    contents=[\n",
    "        \"ภาพนี้คืออะไร?\",image,\n",
    "    ],\n",
    ")\n",
    "print(response.text)"
   ]
  },
  {
   "cell_type": "markdown",
   "id": "ed2c9170",
   "metadata": {},
   "source": [
    "## 5. Gemini Document Understanding\n",
    "\n",
    "Gemini รองรับการวิเคราะห์เอกสาร PDF โดยใช้โมเดลเวอร์ชัน `gemini-1.5-pro` หรือสูงกว่า  \n",
    "สามารถใช้ในการสรุปเนื้อหา ค้นหาข้อมูลในเอกสาร หรือถามตอบจากไฟล์ PDF โดยตรง\n",
    "\n",
    "---\n",
    "\n",
    "ตัวอย่างเอกสาร PDF\n",
    "\n",
    "<img src=\"https://storage.googleapis.com/ai-agent-jetpack/example-pdf.png\" width=\"300px\"></img>\n"
   ]
  },
  {
   "cell_type": "code",
   "execution_count": null,
   "id": "69b4e69e",
   "metadata": {},
   "outputs": [],
   "source": [
    "import httpx\n",
    "from google.genai import types\n",
    "\n",
    "doc_url = \"https://secdocumentstorage.blob.core.windows.net/fundfactsheet/M0370_2563.pdf\"  \n",
    "doc_data = httpx.get(doc_url).content\n",
    "\n",
    "prompt = \"สรุปเอกสารนี้ให้หน่อย\"\n",
    "response = client.models.generate_content(\n",
    "  model=MODEL_ID,\n",
    "  contents=[\n",
    "      types.Part.from_bytes(\n",
    "        data=doc_data,\n",
    "        mime_type='application/pdf',\n",
    "      ),\n",
    "      prompt])\n",
    "print(response.text)"
   ]
  }
 ],
 "metadata": {
  "kernelspec": {
   "display_name": "Python 3",
   "language": "python",
   "name": "python3"
  },
  "language_info": {
   "codemirror_mode": {
    "name": "ipython",
    "version": 3
   },
   "file_extension": ".py",
   "mimetype": "text/x-python",
   "name": "python",
   "nbconvert_exporter": "python",
   "pygments_lexer": "ipython3",
   "version": "3.12.1"
  }
 },
 "nbformat": 4,
 "nbformat_minor": 5
}
