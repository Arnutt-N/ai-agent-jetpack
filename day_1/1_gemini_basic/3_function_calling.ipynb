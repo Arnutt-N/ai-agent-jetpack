{
  "cells": [
    {
      "cell_type": "markdown",
      "metadata": {
        "id": "3f383614ec30"
      },
      "source": [
        "## 🛠️ 1. Functions as Tools (สำหรับ Gemini Function Calling)\n",
        "Google Gemini API รองรับการเรียกใช้งานฟังก์ชัน Python อัตโนมัติเมื่อใช้ร่วมกับ **Function Calling**  \n",
        "ทำให้สามารถเชื่อมต่อกับข้อมูลภายนอก เช่น ฐานข้อมูล ร้านอาหาร ระบบจองโต๊ะ หรือ API อื่น ๆ ได้อย่างชาญฉลาด\n",
        "\n",
        "ด้วยความสามารถนี้ โมเดลจะ **เข้าใจเจตนาของผู้ใช้ และเลือกเรียกใช้ฟังก์ชันที่เหมาะสม** พร้อมกำหนด argument ให้อัตโนมัติ  \n",
        "เหมาะสำหรับการสร้าง AI Assistant หรือ Agent ที่มีความสามารถแบบ **“actionable”**\n"
      ]
    },
    {
      "cell_type": "code",
      "execution_count": null,
      "metadata": {},
      "outputs": [],
      "source": [
        "import os\n",
        "from dotenv import load_dotenv\n",
        "from google import genai\n",
        "from google.genai.types import GenerateContentConfig\n",
        "\n",
        "load_dotenv(\"../.env\")\n",
        "\n",
        "client = genai.Client(api_key=os.getenv(\"GEMINI_API_KEY\"))\n",
        "MODEL_ID = \"gemini-2.5-flash\" "
      ]
    },
    {
      "cell_type": "code",
      "execution_count": null,
      "metadata": {
        "id": "C8J_H1hSp4m-"
      },
      "outputs": [],
      "source": [
        "def find_menu_items(description: str):\n",
        "    \"\"\"ค้นหารายการอาหารจากคำอธิบาย เช่น ประเภทอาหาร ชื่อเมนู วัตถุดิบ หรือสไตล์\n",
        "\n",
        "    Args:\n",
        "        description: คำอธิบายประเภทอาหาร เช่น อาหารญี่ปุ่น เผ็ด ไม่ใส่เนื้อ หรือชื่อเมนู\n",
        "    \"\"\"\n",
        "    return [\"ราเมนหมูชาชู\", \"ข้าวหน้าปลาแซลมอน\", \"ซูชิปลาทูน่า\"]\n",
        "\n",
        "\n",
        "def get_reservation_slots(date: str):\n",
        "    \"\"\"ดูเวลาที่สามารถจองโต๊ะได้ในร้านนั้น\n",
        "\n",
        "    Args:\n",
        "        date: วันที่ต้องการจอง (รูปแบบ MM-DD)\n",
        "    \"\"\"\n",
        "    return [\"17:00\", \"18:30\", \"20:00\"]\n"
      ]
    },
    {
      "cell_type": "code",
      "execution_count": null,
      "metadata": {},
      "outputs": [],
      "source": [
        "import json\n",
        "from google.genai import types \n",
        "\n",
        "system_prompt = \"\"\"\n",
        "คุณคือผู้ช่วยร้านอาหารชื่อ 'เนโกะ' 🐱\n",
        "คุณพูดจาน่ารัก สุภาพ ใช้คำลงท้ายว่า 'เมี๊ยว~'\n",
        "หน้าที่ของคุณคือช่วยลูกค้าร้านหาร\n",
        "เมื่อลูกค้าถามถึงเมนู ให้ดููข้อมูลจากระบบเพื่อตอบ ถ้าไม่รู้ ให้ตอบอย่างสุภาพว่าไม่รู้\n",
        "เมื่อลูกค้าต้องการของคิว เช็กคิวว่างจากระบบเพื่อจองโต๊ะให้ลูกค้า ถ้าไม่รู้ว่ามีคิวว่าเวลาไหนบ้าง ให้ตอบอย่างสุภาพว่าไม่รู้\n",
        "\"\"\"\n",
        "neko_tools = [find_menu_items, get_reservation_slots]\n",
        "chat = client.chats.create(\n",
        "    model=MODEL_ID,\n",
        "    config={\n",
        "        \"tools\": neko_tools,\n",
        "        \"system_instruction\": system_prompt,\n",
        "    }\n",
        ")\n",
        "\n"
      ]
    },
    {
      "cell_type": "code",
      "execution_count": null,
      "metadata": {},
      "outputs": [],
      "source": [
        "response = chat.send_message(\"สวัสดีค่ะ ที่ร้านมีอะไรบ้างค่ะ อยากกินอาหารญี่ปุ่น\")\n",
        "print(response.text)"
      ]
    },
    {
      "cell_type": "code",
      "execution_count": null,
      "metadata": {},
      "outputs": [],
      "source": [
        "response = chat.send_message(\"จะจอง วันที่ 19 July ช่วยเช็คให้หน่อยได้ไหม มีคิวว่ากี่โมงบ้างค่ะ\")\n",
        "print(response.text)"
      ]
    },
    {
      "cell_type": "code",
      "execution_count": null,
      "metadata": {},
      "outputs": [],
      "source": [
        "response = chat.send_message(\"ขอสั่งปลาแซลม่อนจานนึง\")\n",
        "print(response.text)"
      ]
    }
  ],
  "metadata": {
    "colab": {
      "collapsed_sections": [
        "hY2NtS3jV56U"
      ],
      "name": "Function_calling.ipynb",
      "toc_visible": true
    },
    "google": {
      "image_path": "/site-assets/images/share.png",
      "keywords": [
        "examples",
        "googleai",
        "samplecode",
        "python",
        "embed",
        "function"
      ]
    },
    "kernelspec": {
      "display_name": "Python 3",
      "name": "python3"
    },
    "language_info": {
      "codemirror_mode": {
        "name": "ipython",
        "version": 3
      },
      "file_extension": ".py",
      "mimetype": "text/x-python",
      "name": "python",
      "nbconvert_exporter": "python",
      "pygments_lexer": "ipython3",
      "version": "3.12.1"
    }
  },
  "nbformat": 4,
  "nbformat_minor": 0
}
